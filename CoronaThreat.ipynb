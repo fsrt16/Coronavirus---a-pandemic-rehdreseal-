{
  "nbformat": 4,
  "nbformat_minor": 0,
  "metadata": {
    "colab": {
      "name": "CoronaThreat.ipynb",
      "provenance": [],
      "toc_visible": true,
      "authorship_tag": "ABX9TyN3MBFLLzUpjIQ8/fEBibqn",
      "include_colab_link": true
    },
    "kernelspec": {
      "name": "python3",
      "display_name": "Python 3"
    }
  },
  "cells": [
    {
      "cell_type": "markdown",
      "metadata": {
        "id": "view-in-github",
        "colab_type": "text"
      },
      "source": [
        "<a href=\"https://colab.research.google.com/github/fsrt16/Coronavirus---a-pandemic-rehdreseal-/blob/master/CoronaThreat.ipynb\" target=\"_parent\"><img src=\"https://colab.research.google.com/assets/colab-badge.svg\" alt=\"Open In Colab\"/></a>"
      ]
    },
    {
      "cell_type": "code",
      "metadata": {
        "id": "epX_jB1_CAdw",
        "colab_type": "code",
        "colab": {}
      },
      "source": [
        "#Importing required packages.\n",
        "import pandas as pd\n",
        "import seaborn as sns\n",
        "import matplotlib.pyplot as plt\n",
        "from sklearn.ensemble import RandomForestClassifier\n",
        "from sklearn.svm import SVC\n",
        "from sklearn.linear_model import SGDClassifier\n",
        "from sklearn.metrics import confusion_matrix, classification_report\n",
        "from sklearn.preprocessing import StandardScaler, LabelEncoder\n",
        "from sklearn.model_selection import train_test_split, GridSearchCV, cross_val_score\n",
        "%matplotlib inline"
      ],
      "execution_count": 0,
      "outputs": []
    },
    {
      "cell_type": "code",
      "metadata": {
        "id": "SiOJLsbaq9CQ",
        "colab_type": "code",
        "colab": {}
      },
      "source": [
        "import warnings\n",
        "warnings.filterwarnings(\"ignore\")"
      ],
      "execution_count": 0,
      "outputs": []
    },
    {
      "cell_type": "code",
      "metadata": {
        "id": "nqJEUoHZC2iV",
        "colab_type": "code",
        "outputId": "ddca5971-81a6-43cc-96a3-6ea139bec5e1",
        "colab": {
          "base_uri": "https://localhost:8080/",
          "height": 300
        }
      },
      "source": [
        "train = pd.read_csv('/content/Train_dataset - Train_dataset.csv')\n",
        "train.head()"
      ],
      "execution_count": 47,
      "outputs": [
        {
          "output_type": "execute_result",
          "data": {
            "text/html": [
              "<div>\n",
              "<style scoped>\n",
              "    .dataframe tbody tr th:only-of-type {\n",
              "        vertical-align: middle;\n",
              "    }\n",
              "\n",
              "    .dataframe tbody tr th {\n",
              "        vertical-align: top;\n",
              "    }\n",
              "\n",
              "    .dataframe thead th {\n",
              "        text-align: right;\n",
              "    }\n",
              "</style>\n",
              "<table border=\"1\" class=\"dataframe\">\n",
              "  <thead>\n",
              "    <tr style=\"text-align: right;\">\n",
              "      <th></th>\n",
              "      <th>people_ID</th>\n",
              "      <th>Region</th>\n",
              "      <th>Gender</th>\n",
              "      <th>Designation</th>\n",
              "      <th>Name</th>\n",
              "      <th>Married</th>\n",
              "      <th>Children</th>\n",
              "      <th>Occupation</th>\n",
              "      <th>Mode_transport</th>\n",
              "      <th>cases/1M</th>\n",
              "      <th>Deaths/1M</th>\n",
              "      <th>comorbidity</th>\n",
              "      <th>Age</th>\n",
              "      <th>Coma score</th>\n",
              "      <th>Pulmonary score</th>\n",
              "      <th>cardiological pressure</th>\n",
              "      <th>Diuresis</th>\n",
              "      <th>Platelets</th>\n",
              "      <th>HBB</th>\n",
              "      <th>d-dimer</th>\n",
              "      <th>Heart rate</th>\n",
              "      <th>HDL cholesterol</th>\n",
              "      <th>Charlson Index</th>\n",
              "      <th>Blood Glucose</th>\n",
              "      <th>Insurance</th>\n",
              "      <th>salary</th>\n",
              "      <th>FT/month</th>\n",
              "      <th>Infect_Prob</th>\n",
              "    </tr>\n",
              "  </thead>\n",
              "  <tbody>\n",
              "    <tr>\n",
              "      <th>0</th>\n",
              "      <td>1</td>\n",
              "      <td>Bhubaneshwar</td>\n",
              "      <td>Female</td>\n",
              "      <td>Mrs</td>\n",
              "      <td>mansi</td>\n",
              "      <td>YES</td>\n",
              "      <td>1.0</td>\n",
              "      <td>Farmer</td>\n",
              "      <td>Public</td>\n",
              "      <td>2</td>\n",
              "      <td>0</td>\n",
              "      <td>Hypertension</td>\n",
              "      <td>68</td>\n",
              "      <td>8</td>\n",
              "      <td>&lt;400</td>\n",
              "      <td>Normal</td>\n",
              "      <td>441.0</td>\n",
              "      <td>154.0</td>\n",
              "      <td>93.0</td>\n",
              "      <td>233.0</td>\n",
              "      <td>82.0</td>\n",
              "      <td>58.0</td>\n",
              "      <td>27</td>\n",
              "      <td>7</td>\n",
              "      <td>3600000.0</td>\n",
              "      <td>1300000</td>\n",
              "      <td>2.0</td>\n",
              "      <td>49.135010</td>\n",
              "    </tr>\n",
              "    <tr>\n",
              "      <th>1</th>\n",
              "      <td>2</td>\n",
              "      <td>Bhubaneshwar</td>\n",
              "      <td>Female</td>\n",
              "      <td>Mrs</td>\n",
              "      <td>riya masi</td>\n",
              "      <td>YES</td>\n",
              "      <td>2.0</td>\n",
              "      <td>Farmer</td>\n",
              "      <td>Walk</td>\n",
              "      <td>2</td>\n",
              "      <td>0</td>\n",
              "      <td>Diabetes</td>\n",
              "      <td>64</td>\n",
              "      <td>15</td>\n",
              "      <td>&lt;100</td>\n",
              "      <td>Stage-02</td>\n",
              "      <td>NaN</td>\n",
              "      <td>121.0</td>\n",
              "      <td>56.0</td>\n",
              "      <td>328.0</td>\n",
              "      <td>89.0</td>\n",
              "      <td>68.0</td>\n",
              "      <td>5</td>\n",
              "      <td>6</td>\n",
              "      <td>1600000.0</td>\n",
              "      <td>400000</td>\n",
              "      <td>1.0</td>\n",
              "      <td>51.147880</td>\n",
              "    </tr>\n",
              "    <tr>\n",
              "      <th>2</th>\n",
              "      <td>3</td>\n",
              "      <td>Bhubaneshwar</td>\n",
              "      <td>Female</td>\n",
              "      <td>Mrs</td>\n",
              "      <td>sunita</td>\n",
              "      <td>NO</td>\n",
              "      <td>1.0</td>\n",
              "      <td>Cleaner</td>\n",
              "      <td>Public</td>\n",
              "      <td>2</td>\n",
              "      <td>0</td>\n",
              "      <td>None</td>\n",
              "      <td>19</td>\n",
              "      <td>13</td>\n",
              "      <td>&lt;300</td>\n",
              "      <td>Elevated</td>\n",
              "      <td>416.0</td>\n",
              "      <td>124.0</td>\n",
              "      <td>137.0</td>\n",
              "      <td>213.0</td>\n",
              "      <td>77.0</td>\n",
              "      <td>43.0</td>\n",
              "      <td>40</td>\n",
              "      <td>6</td>\n",
              "      <td>3400000.0</td>\n",
              "      <td>900000</td>\n",
              "      <td>1.0</td>\n",
              "      <td>73.224000</td>\n",
              "    </tr>\n",
              "    <tr>\n",
              "      <th>3</th>\n",
              "      <td>4</td>\n",
              "      <td>Bhubaneshwar</td>\n",
              "      <td>Female</td>\n",
              "      <td>Mrs</td>\n",
              "      <td>anjali @ babli</td>\n",
              "      <td>YES</td>\n",
              "      <td>1.0</td>\n",
              "      <td>Driver</td>\n",
              "      <td>Car</td>\n",
              "      <td>2</td>\n",
              "      <td>0</td>\n",
              "      <td>Coronary Heart Disease</td>\n",
              "      <td>33</td>\n",
              "      <td>9</td>\n",
              "      <td>&lt;200</td>\n",
              "      <td>Stage-01</td>\n",
              "      <td>410.0</td>\n",
              "      <td>98.0</td>\n",
              "      <td>167.0</td>\n",
              "      <td>275.0</td>\n",
              "      <td>64.0</td>\n",
              "      <td>60.0</td>\n",
              "      <td>27</td>\n",
              "      <td>7</td>\n",
              "      <td>700000.0</td>\n",
              "      <td>2300000</td>\n",
              "      <td>1.0</td>\n",
              "      <td>48.779225</td>\n",
              "    </tr>\n",
              "    <tr>\n",
              "      <th>4</th>\n",
              "      <td>5</td>\n",
              "      <td>Bhubaneshwar</td>\n",
              "      <td>Female</td>\n",
              "      <td>Mrs</td>\n",
              "      <td>champa karketta</td>\n",
              "      <td>NO</td>\n",
              "      <td>2.0</td>\n",
              "      <td>Manufacturing</td>\n",
              "      <td>Car</td>\n",
              "      <td>2</td>\n",
              "      <td>0</td>\n",
              "      <td>Diabetes</td>\n",
              "      <td>23</td>\n",
              "      <td>7</td>\n",
              "      <td>&lt;400</td>\n",
              "      <td>Normal</td>\n",
              "      <td>390.0</td>\n",
              "      <td>21.0</td>\n",
              "      <td>153.0</td>\n",
              "      <td>331.0</td>\n",
              "      <td>71.0</td>\n",
              "      <td>64.0</td>\n",
              "      <td>32</td>\n",
              "      <td>7</td>\n",
              "      <td>3200000.0</td>\n",
              "      <td>1100000</td>\n",
              "      <td>1.0</td>\n",
              "      <td>87.868800</td>\n",
              "    </tr>\n",
              "  </tbody>\n",
              "</table>\n",
              "</div>"
            ],
            "text/plain": [
              "   people_ID        Region  Gender  ...   salary FT/month Infect_Prob\n",
              "0          1  Bhubaneshwar  Female  ...  1300000      2.0   49.135010\n",
              "1          2  Bhubaneshwar  Female  ...   400000      1.0   51.147880\n",
              "2          3  Bhubaneshwar  Female  ...   900000      1.0   73.224000\n",
              "3          4  Bhubaneshwar  Female  ...  2300000      1.0   48.779225\n",
              "4          5  Bhubaneshwar  Female  ...  1100000      1.0   87.868800\n",
              "\n",
              "[5 rows x 28 columns]"
            ]
          },
          "metadata": {
            "tags": []
          },
          "execution_count": 47
        }
      ]
    },
    {
      "cell_type": "code",
      "metadata": {
        "id": "icXrbhPbDBIz",
        "colab_type": "code",
        "outputId": "99c6e16f-4cba-4313-a91e-78014885ad25",
        "colab": {
          "base_uri": "https://localhost:8080/",
          "height": 283
        }
      },
      "source": [
        "test = pd.read_csv('/content/Test_dataset.xlsx - Test_dataset.csv')\n",
        "test.head()"
      ],
      "execution_count": 48,
      "outputs": [
        {
          "output_type": "execute_result",
          "data": {
            "text/html": [
              "<div>\n",
              "<style scoped>\n",
              "    .dataframe tbody tr th:only-of-type {\n",
              "        vertical-align: middle;\n",
              "    }\n",
              "\n",
              "    .dataframe tbody tr th {\n",
              "        vertical-align: top;\n",
              "    }\n",
              "\n",
              "    .dataframe thead th {\n",
              "        text-align: right;\n",
              "    }\n",
              "</style>\n",
              "<table border=\"1\" class=\"dataframe\">\n",
              "  <thead>\n",
              "    <tr style=\"text-align: right;\">\n",
              "      <th></th>\n",
              "      <th>people_ID</th>\n",
              "      <th>Region</th>\n",
              "      <th>Gender</th>\n",
              "      <th>Designation</th>\n",
              "      <th>Name</th>\n",
              "      <th>Married</th>\n",
              "      <th>Children</th>\n",
              "      <th>Occupation</th>\n",
              "      <th>Mode_transport</th>\n",
              "      <th>cases/1M</th>\n",
              "      <th>Deaths/1M</th>\n",
              "      <th>comorbidity</th>\n",
              "      <th>Age</th>\n",
              "      <th>Coma score</th>\n",
              "      <th>Pulmonary score</th>\n",
              "      <th>cardiological pressure</th>\n",
              "      <th>Diuresis</th>\n",
              "      <th>Platelets</th>\n",
              "      <th>HBB</th>\n",
              "      <th>d-dimer</th>\n",
              "      <th>Heart rate</th>\n",
              "      <th>HDL cholesterol</th>\n",
              "      <th>Charlson Index</th>\n",
              "      <th>Blood Glucose</th>\n",
              "      <th>Insurance</th>\n",
              "      <th>salary</th>\n",
              "      <th>FT/month</th>\n",
              "    </tr>\n",
              "  </thead>\n",
              "  <tbody>\n",
              "    <tr>\n",
              "      <th>0</th>\n",
              "      <td>5942</td>\n",
              "      <td>Delhi</td>\n",
              "      <td>Female</td>\n",
              "      <td>Mrs</td>\n",
              "      <td>smt rekha prajapat</td>\n",
              "      <td>YES</td>\n",
              "      <td>2</td>\n",
              "      <td>Driver</td>\n",
              "      <td>Public</td>\n",
              "      <td>4</td>\n",
              "      <td>1</td>\n",
              "      <td>Diabetes</td>\n",
              "      <td>52</td>\n",
              "      <td>3</td>\n",
              "      <td>&lt;200</td>\n",
              "      <td>Stage-01</td>\n",
              "      <td>388</td>\n",
              "      <td>153</td>\n",
              "      <td>196</td>\n",
              "      <td>240</td>\n",
              "      <td>85</td>\n",
              "      <td>53</td>\n",
              "      <td>17</td>\n",
              "      <td>3</td>\n",
              "      <td>3900000</td>\n",
              "      <td>1300000</td>\n",
              "      <td>1</td>\n",
              "    </tr>\n",
              "    <tr>\n",
              "      <th>1</th>\n",
              "      <td>18664</td>\n",
              "      <td>Delhi</td>\n",
              "      <td>Male</td>\n",
              "      <td>Mr</td>\n",
              "      <td>nirmal</td>\n",
              "      <td>YES</td>\n",
              "      <td>2</td>\n",
              "      <td>Legal</td>\n",
              "      <td>Walk</td>\n",
              "      <td>4</td>\n",
              "      <td>1</td>\n",
              "      <td>Diabetes</td>\n",
              "      <td>53</td>\n",
              "      <td>11</td>\n",
              "      <td>&lt;200</td>\n",
              "      <td>Stage-01</td>\n",
              "      <td>409</td>\n",
              "      <td>95</td>\n",
              "      <td>138</td>\n",
              "      <td>241</td>\n",
              "      <td>81</td>\n",
              "      <td>61</td>\n",
              "      <td>2</td>\n",
              "      <td>5</td>\n",
              "      <td>1800000</td>\n",
              "      <td>1300000</td>\n",
              "      <td>1</td>\n",
              "    </tr>\n",
              "    <tr>\n",
              "      <th>2</th>\n",
              "      <td>5603</td>\n",
              "      <td>Delhi</td>\n",
              "      <td>Female</td>\n",
              "      <td>Mrs</td>\n",
              "      <td>pinky</td>\n",
              "      <td>YES</td>\n",
              "      <td>2</td>\n",
              "      <td>Sales</td>\n",
              "      <td>Car</td>\n",
              "      <td>4</td>\n",
              "      <td>1</td>\n",
              "      <td>Diabetes</td>\n",
              "      <td>35</td>\n",
              "      <td>9</td>\n",
              "      <td>&lt;100</td>\n",
              "      <td>Stage-02</td>\n",
              "      <td>440</td>\n",
              "      <td>40</td>\n",
              "      <td>166</td>\n",
              "      <td>236</td>\n",
              "      <td>88</td>\n",
              "      <td>47</td>\n",
              "      <td>24</td>\n",
              "      <td>3</td>\n",
              "      <td>5000000</td>\n",
              "      <td>2000000</td>\n",
              "      <td>2</td>\n",
              "    </tr>\n",
              "    <tr>\n",
              "      <th>3</th>\n",
              "      <td>5649</td>\n",
              "      <td>Delhi</td>\n",
              "      <td>Female</td>\n",
              "      <td>Mrs</td>\n",
              "      <td>pooja @aafrin</td>\n",
              "      <td>YES</td>\n",
              "      <td>2</td>\n",
              "      <td>Sales</td>\n",
              "      <td>Car</td>\n",
              "      <td>4</td>\n",
              "      <td>1</td>\n",
              "      <td>None</td>\n",
              "      <td>31</td>\n",
              "      <td>12</td>\n",
              "      <td>&lt;300</td>\n",
              "      <td>Elevated</td>\n",
              "      <td>206</td>\n",
              "      <td>78</td>\n",
              "      <td>83</td>\n",
              "      <td>211</td>\n",
              "      <td>87</td>\n",
              "      <td>52</td>\n",
              "      <td>13</td>\n",
              "      <td>6</td>\n",
              "      <td>3100000</td>\n",
              "      <td>600000</td>\n",
              "      <td>2</td>\n",
              "    </tr>\n",
              "    <tr>\n",
              "      <th>4</th>\n",
              "      <td>5099</td>\n",
              "      <td>Delhi</td>\n",
              "      <td>Female</td>\n",
              "      <td>Mrs</td>\n",
              "      <td>anjali</td>\n",
              "      <td>YES</td>\n",
              "      <td>2</td>\n",
              "      <td>Business</td>\n",
              "      <td>Car</td>\n",
              "      <td>4</td>\n",
              "      <td>1</td>\n",
              "      <td>Diabetes</td>\n",
              "      <td>51</td>\n",
              "      <td>6</td>\n",
              "      <td>&lt;200</td>\n",
              "      <td>Stage-01</td>\n",
              "      <td>229</td>\n",
              "      <td>109</td>\n",
              "      <td>207</td>\n",
              "      <td>312</td>\n",
              "      <td>94</td>\n",
              "      <td>68</td>\n",
              "      <td>39</td>\n",
              "      <td>5</td>\n",
              "      <td>2300000</td>\n",
              "      <td>1500000</td>\n",
              "      <td>1</td>\n",
              "    </tr>\n",
              "  </tbody>\n",
              "</table>\n",
              "</div>"
            ],
            "text/plain": [
              "   people_ID Region  Gender  ... Insurance   salary FT/month\n",
              "0       5942  Delhi  Female  ...   3900000  1300000        1\n",
              "1      18664  Delhi    Male  ...   1800000  1300000        1\n",
              "2       5603  Delhi  Female  ...   5000000  2000000        2\n",
              "3       5649  Delhi  Female  ...   3100000   600000        2\n",
              "4       5099  Delhi  Female  ...   2300000  1500000        1\n",
              "\n",
              "[5 rows x 27 columns]"
            ]
          },
          "metadata": {
            "tags": []
          },
          "execution_count": 48
        }
      ]
    },
    {
      "cell_type": "markdown",
      "metadata": {
        "id": "wz6gNhFHDs1J",
        "colab_type": "text"
      },
      "source": [
        "# **Data Briefing**"
      ]
    },
    {
      "cell_type": "code",
      "metadata": {
        "id": "g6pHw2gxDnRD",
        "colab_type": "code",
        "outputId": "a35fe4dd-970e-410e-86c5-b493b7f920d6",
        "colab": {
          "base_uri": "https://localhost:8080/",
          "height": 134
        }
      },
      "source": [
        "train.columns"
      ],
      "execution_count": 49,
      "outputs": [
        {
          "output_type": "execute_result",
          "data": {
            "text/plain": [
              "Index(['people_ID', 'Region', 'Gender', 'Designation', 'Name', 'Married',\n",
              "       'Children', 'Occupation', 'Mode_transport', 'cases/1M', 'Deaths/1M',\n",
              "       'comorbidity', 'Age', 'Coma score', 'Pulmonary score',\n",
              "       'cardiological pressure', 'Diuresis', 'Platelets', 'HBB', 'd-dimer',\n",
              "       'Heart rate', 'HDL cholesterol', 'Charlson Index', 'Blood Glucose',\n",
              "       'Insurance', 'salary', 'FT/month', 'Infect_Prob'],\n",
              "      dtype='object')"
            ]
          },
          "metadata": {
            "tags": []
          },
          "execution_count": 49
        }
      ]
    },
    {
      "cell_type": "code",
      "metadata": {
        "id": "_wfWU_OrDN3E",
        "colab_type": "code",
        "outputId": "a7210e50-5079-4b47-9d30-94a339fb285e",
        "colab": {
          "base_uri": "https://localhost:8080/",
          "height": 569
        }
      },
      "source": [
        "train.info()"
      ],
      "execution_count": 50,
      "outputs": [
        {
          "output_type": "stream",
          "text": [
            "<class 'pandas.core.frame.DataFrame'>\n",
            "RangeIndex: 10714 entries, 0 to 10713\n",
            "Data columns (total 28 columns):\n",
            "people_ID                 10714 non-null int64\n",
            "Region                    10714 non-null object\n",
            "Gender                    10714 non-null object\n",
            "Designation               10714 non-null object\n",
            "Name                      10694 non-null object\n",
            "Married                   10714 non-null object\n",
            "Children                  10403 non-null float64\n",
            "Occupation                9967 non-null object\n",
            "Mode_transport            10711 non-null object\n",
            "cases/1M                  10714 non-null int64\n",
            "Deaths/1M                 10714 non-null int64\n",
            "comorbidity               10488 non-null object\n",
            "Age                       10714 non-null int64\n",
            "Coma score                10714 non-null int64\n",
            "Pulmonary score           10714 non-null object\n",
            "cardiological pressure    10617 non-null object\n",
            "Diuresis                  9998 non-null float64\n",
            "Platelets                 9790 non-null float64\n",
            "HBB                       10698 non-null float64\n",
            "d-dimer                   9600 non-null float64\n",
            "Heart rate                9600 non-null float64\n",
            "HDL cholesterol           10679 non-null float64\n",
            "Charlson Index            10714 non-null int64\n",
            "Blood Glucose             10714 non-null int64\n",
            "Insurance                 9624 non-null float64\n",
            "salary                    10714 non-null int64\n",
            "FT/month                  9991 non-null float64\n",
            "Infect_Prob               10714 non-null float64\n",
            "dtypes: float64(10), int64(8), object(10)\n",
            "memory usage: 2.3+ MB\n"
          ],
          "name": "stdout"
        }
      ]
    },
    {
      "cell_type": "markdown",
      "metadata": {
        "id": "ZiVJPI-ADgOF",
        "colab_type": "text"
      },
      "source": [
        "# **Preprocessing** "
      ]
    },
    {
      "cell_type": "markdown",
      "metadata": {
        "id": "dSDsxycXEbek",
        "colab_type": "text"
      },
      "source": [
        "*identifying Numeric or float variables*"
      ]
    },
    {
      "cell_type": "code",
      "metadata": {
        "id": "-k6xiQEnESMc",
        "colab_type": "code",
        "outputId": "a66cc228-6c3a-4730-d78b-a9dbc8a59938",
        "colab": {
          "base_uri": "https://localhost:8080/",
          "height": 318
        }
      },
      "source": [
        "numeric_variables = list(train.select_dtypes(include=['int64','float']).columns.values)\n",
        "train[numeric_variables]=train[numeric_variables].apply(lambda x: x.fillna(x.mean()),axis=0)\n",
        "numeric_variables"
      ],
      "execution_count": 51,
      "outputs": [
        {
          "output_type": "execute_result",
          "data": {
            "text/plain": [
              "['people_ID',\n",
              " 'Children',\n",
              " 'cases/1M',\n",
              " 'Deaths/1M',\n",
              " 'Age',\n",
              " 'Coma score',\n",
              " 'Diuresis',\n",
              " 'Platelets',\n",
              " 'HBB',\n",
              " 'd-dimer',\n",
              " 'Heart rate',\n",
              " 'HDL cholesterol',\n",
              " 'Charlson Index',\n",
              " 'Blood Glucose',\n",
              " 'Insurance',\n",
              " 'salary',\n",
              " 'FT/month',\n",
              " 'Infect_Prob']"
            ]
          },
          "metadata": {
            "tags": []
          },
          "execution_count": 51
        }
      ]
    },
    {
      "cell_type": "markdown",
      "metadata": {
        "id": "IEN6GbD2Eh9J",
        "colab_type": "text"
      },
      "source": [
        "*identifying string or object variables*"
      ]
    },
    {
      "cell_type": "code",
      "metadata": {
        "id": "b6rmCa4hEnQX",
        "colab_type": "code",
        "outputId": "0884e27f-19d2-48ce-e76f-d955a18dbc18",
        "colab": {
          "base_uri": "https://localhost:8080/",
          "height": 184
        }
      },
      "source": [
        "categorical_variables = list(train.select_dtypes(exclude=['int64','float','bool']).columns.values)\n",
        "categorical_variables"
      ],
      "execution_count": 257,
      "outputs": [
        {
          "output_type": "execute_result",
          "data": {
            "text/plain": [
              "['Region',\n",
              " 'Gender',\n",
              " 'Designation',\n",
              " 'Name',\n",
              " 'Married',\n",
              " 'Occupation',\n",
              " 'Mode_transport',\n",
              " 'comorbidity',\n",
              " 'Pulmonary score',\n",
              " 'cardiological pressure']"
            ]
          },
          "metadata": {
            "tags": []
          },
          "execution_count": 257
        }
      ]
    },
    {
      "cell_type": "markdown",
      "metadata": {
        "id": "d9MoccKsGA85",
        "colab_type": "text"
      },
      "source": [
        "**Dealing With Missing Values**\n",
        "\n",
        "\n",
        "### 1.   **For Numeric Values we can take** \n",
        "\n",
        "*   Mean : regular meaning of \"average\"\n",
        "*   Median : middle value in sorted order\n",
        "\n",
        "\n",
        "\n",
        "---\n",
        "\n",
        "\n",
        "\n",
        "### 2.   **For Numeric Values we can take**\n",
        "\n",
        "*   ffill : forward value fill , here we can replace the nan values by the first non nan values. We can also set limit to this action in order to percieve redundancy and consistency of data stream\n",
        "*   dfill : backward value fill , here we can replace the nan values by the last non nan values. We can also set limit to this action in order to percieve redundancy and consistency of data stream\n",
        "*   Mode : most often\n",
        "\n",
        "\n",
        "---\n",
        "\n",
        "![alt text](https://s3-eu-west-1.amazonaws.com/tutor2u-media/subjects/geography/studynoteimages/mean-median-mode.png?mtime=20151024083646)\n",
        "( Ref : https://www.purplemath.com/modules/meanmode.htm )\n",
        "\n",
        "\n",
        "\n",
        "\n"
      ]
    },
    {
      "cell_type": "code",
      "metadata": {
        "id": "OweRZ_xgFlWN",
        "colab_type": "code",
        "colab": {}
      },
      "source": [
        "for s in numeric_variables:\n",
        "  train[s] = train[s].fillna(train[s].mean())"
      ],
      "execution_count": 0,
      "outputs": []
    },
    {
      "cell_type": "code",
      "metadata": {
        "id": "nIIdUcGeIPXk",
        "colab_type": "code",
        "colab": {}
      },
      "source": [
        "for s in categorical_variables:\n",
        "  train[s] = train[s].fillna(train[s].mode())\n",
        "  #print(s+\"   \"+train[s].mode())"
      ],
      "execution_count": 0,
      "outputs": []
    },
    {
      "cell_type": "markdown",
      "metadata": {
        "id": "ss-rZcSCJuX0",
        "colab_type": "text"
      },
      "source": [
        "### *Confirm the absence of NaN* "
      ]
    },
    {
      "cell_type": "code",
      "metadata": {
        "id": "uRXoCCmcIsXI",
        "colab_type": "code",
        "outputId": "c015a521-9b00-4094-bb5e-4bb9ea366ed2",
        "colab": {
          "base_uri": "https://localhost:8080/",
          "height": 84
        }
      },
      "source": [
        "train.columns.isnull()"
      ],
      "execution_count": 56,
      "outputs": [
        {
          "output_type": "execute_result",
          "data": {
            "text/plain": [
              "array([False, False, False, False, False, False, False, False, False,\n",
              "       False, False, False, False, False, False, False, False, False,\n",
              "       False, False, False, False, False, False, False, False, False,\n",
              "       False])"
            ]
          },
          "metadata": {
            "tags": []
          },
          "execution_count": 56
        }
      ]
    },
    {
      "cell_type": "code",
      "metadata": {
        "id": "f75ACf1-eaLo",
        "colab_type": "code",
        "colab": {}
      },
      "source": [
        "train = train.drop('people_ID',axis=1)"
      ],
      "execution_count": 0,
      "outputs": []
    },
    {
      "cell_type": "code",
      "metadata": {
        "id": "06momjMNe_z9",
        "colab_type": "code",
        "colab": {}
      },
      "source": [
        "numeric_variables.remove('people_ID')\n"
      ],
      "execution_count": 0,
      "outputs": []
    },
    {
      "cell_type": "code",
      "metadata": {
        "id": "rU1uUSl_IXoR",
        "colab_type": "code",
        "outputId": "a03874be-d3bd-4129-a4ff-9122123ad93d",
        "colab": {
          "base_uri": "https://localhost:8080/",
          "height": 300
        }
      },
      "source": [
        "train.head(5)"
      ],
      "execution_count": 116,
      "outputs": [
        {
          "output_type": "execute_result",
          "data": {
            "text/html": [
              "<div>\n",
              "<style scoped>\n",
              "    .dataframe tbody tr th:only-of-type {\n",
              "        vertical-align: middle;\n",
              "    }\n",
              "\n",
              "    .dataframe tbody tr th {\n",
              "        vertical-align: top;\n",
              "    }\n",
              "\n",
              "    .dataframe thead th {\n",
              "        text-align: right;\n",
              "    }\n",
              "</style>\n",
              "<table border=\"1\" class=\"dataframe\">\n",
              "  <thead>\n",
              "    <tr style=\"text-align: right;\">\n",
              "      <th></th>\n",
              "      <th>Region</th>\n",
              "      <th>Gender</th>\n",
              "      <th>Designation</th>\n",
              "      <th>Name</th>\n",
              "      <th>Married</th>\n",
              "      <th>Children</th>\n",
              "      <th>Occupation</th>\n",
              "      <th>Mode_transport</th>\n",
              "      <th>cases/1M</th>\n",
              "      <th>Deaths/1M</th>\n",
              "      <th>comorbidity</th>\n",
              "      <th>Age</th>\n",
              "      <th>Coma score</th>\n",
              "      <th>Pulmonary score</th>\n",
              "      <th>cardiological pressure</th>\n",
              "      <th>Diuresis</th>\n",
              "      <th>Platelets</th>\n",
              "      <th>HBB</th>\n",
              "      <th>d-dimer</th>\n",
              "      <th>Heart rate</th>\n",
              "      <th>HDL cholesterol</th>\n",
              "      <th>Charlson Index</th>\n",
              "      <th>Blood Glucose</th>\n",
              "      <th>Insurance</th>\n",
              "      <th>salary</th>\n",
              "      <th>FT/month</th>\n",
              "      <th>Infect_Prob</th>\n",
              "    </tr>\n",
              "  </thead>\n",
              "  <tbody>\n",
              "    <tr>\n",
              "      <th>0</th>\n",
              "      <td>Bhubaneshwar</td>\n",
              "      <td>Female</td>\n",
              "      <td>Mrs</td>\n",
              "      <td>mansi</td>\n",
              "      <td>YES</td>\n",
              "      <td>1.0</td>\n",
              "      <td>Farmer</td>\n",
              "      <td>Public</td>\n",
              "      <td>2</td>\n",
              "      <td>0</td>\n",
              "      <td>Hypertension</td>\n",
              "      <td>68</td>\n",
              "      <td>8</td>\n",
              "      <td>&lt;400</td>\n",
              "      <td>Normal</td>\n",
              "      <td>441.000000</td>\n",
              "      <td>154.0</td>\n",
              "      <td>93.0</td>\n",
              "      <td>233.0</td>\n",
              "      <td>82.0</td>\n",
              "      <td>58.0</td>\n",
              "      <td>27</td>\n",
              "      <td>7</td>\n",
              "      <td>3600000.0</td>\n",
              "      <td>1300000</td>\n",
              "      <td>2.0</td>\n",
              "      <td>49.135010</td>\n",
              "    </tr>\n",
              "    <tr>\n",
              "      <th>1</th>\n",
              "      <td>Bhubaneshwar</td>\n",
              "      <td>Female</td>\n",
              "      <td>Mrs</td>\n",
              "      <td>riya masi</td>\n",
              "      <td>YES</td>\n",
              "      <td>2.0</td>\n",
              "      <td>Farmer</td>\n",
              "      <td>Walk</td>\n",
              "      <td>2</td>\n",
              "      <td>0</td>\n",
              "      <td>Diabetes</td>\n",
              "      <td>64</td>\n",
              "      <td>15</td>\n",
              "      <td>&lt;100</td>\n",
              "      <td>Stage-02</td>\n",
              "      <td>278.806261</td>\n",
              "      <td>121.0</td>\n",
              "      <td>56.0</td>\n",
              "      <td>328.0</td>\n",
              "      <td>89.0</td>\n",
              "      <td>68.0</td>\n",
              "      <td>5</td>\n",
              "      <td>6</td>\n",
              "      <td>1600000.0</td>\n",
              "      <td>400000</td>\n",
              "      <td>1.0</td>\n",
              "      <td>51.147880</td>\n",
              "    </tr>\n",
              "    <tr>\n",
              "      <th>2</th>\n",
              "      <td>Bhubaneshwar</td>\n",
              "      <td>Female</td>\n",
              "      <td>Mrs</td>\n",
              "      <td>sunita</td>\n",
              "      <td>NO</td>\n",
              "      <td>1.0</td>\n",
              "      <td>Cleaner</td>\n",
              "      <td>Public</td>\n",
              "      <td>2</td>\n",
              "      <td>0</td>\n",
              "      <td>None</td>\n",
              "      <td>19</td>\n",
              "      <td>13</td>\n",
              "      <td>&lt;300</td>\n",
              "      <td>Elevated</td>\n",
              "      <td>416.000000</td>\n",
              "      <td>124.0</td>\n",
              "      <td>137.0</td>\n",
              "      <td>213.0</td>\n",
              "      <td>77.0</td>\n",
              "      <td>43.0</td>\n",
              "      <td>40</td>\n",
              "      <td>6</td>\n",
              "      <td>3400000.0</td>\n",
              "      <td>900000</td>\n",
              "      <td>1.0</td>\n",
              "      <td>73.224000</td>\n",
              "    </tr>\n",
              "    <tr>\n",
              "      <th>3</th>\n",
              "      <td>Bhubaneshwar</td>\n",
              "      <td>Female</td>\n",
              "      <td>Mrs</td>\n",
              "      <td>anjali @ babli</td>\n",
              "      <td>YES</td>\n",
              "      <td>1.0</td>\n",
              "      <td>Driver</td>\n",
              "      <td>Car</td>\n",
              "      <td>2</td>\n",
              "      <td>0</td>\n",
              "      <td>Coronary Heart Disease</td>\n",
              "      <td>33</td>\n",
              "      <td>9</td>\n",
              "      <td>&lt;200</td>\n",
              "      <td>Stage-01</td>\n",
              "      <td>410.000000</td>\n",
              "      <td>98.0</td>\n",
              "      <td>167.0</td>\n",
              "      <td>275.0</td>\n",
              "      <td>64.0</td>\n",
              "      <td>60.0</td>\n",
              "      <td>27</td>\n",
              "      <td>7</td>\n",
              "      <td>700000.0</td>\n",
              "      <td>2300000</td>\n",
              "      <td>1.0</td>\n",
              "      <td>48.779225</td>\n",
              "    </tr>\n",
              "    <tr>\n",
              "      <th>4</th>\n",
              "      <td>Bhubaneshwar</td>\n",
              "      <td>Female</td>\n",
              "      <td>Mrs</td>\n",
              "      <td>champa karketta</td>\n",
              "      <td>NO</td>\n",
              "      <td>2.0</td>\n",
              "      <td>Manufacturing</td>\n",
              "      <td>Car</td>\n",
              "      <td>2</td>\n",
              "      <td>0</td>\n",
              "      <td>Diabetes</td>\n",
              "      <td>23</td>\n",
              "      <td>7</td>\n",
              "      <td>&lt;400</td>\n",
              "      <td>Normal</td>\n",
              "      <td>390.000000</td>\n",
              "      <td>21.0</td>\n",
              "      <td>153.0</td>\n",
              "      <td>331.0</td>\n",
              "      <td>71.0</td>\n",
              "      <td>64.0</td>\n",
              "      <td>32</td>\n",
              "      <td>7</td>\n",
              "      <td>3200000.0</td>\n",
              "      <td>1100000</td>\n",
              "      <td>1.0</td>\n",
              "      <td>87.868800</td>\n",
              "    </tr>\n",
              "  </tbody>\n",
              "</table>\n",
              "</div>"
            ],
            "text/plain": [
              "         Region  Gender Designation  ...   salary FT/month  Infect_Prob\n",
              "0  Bhubaneshwar  Female         Mrs  ...  1300000      2.0    49.135010\n",
              "1  Bhubaneshwar  Female         Mrs  ...   400000      1.0    51.147880\n",
              "2  Bhubaneshwar  Female         Mrs  ...   900000      1.0    73.224000\n",
              "3  Bhubaneshwar  Female         Mrs  ...  2300000      1.0    48.779225\n",
              "4  Bhubaneshwar  Female         Mrs  ...  1100000      1.0    87.868800\n",
              "\n",
              "[5 rows x 27 columns]"
            ]
          },
          "metadata": {
            "tags": []
          },
          "execution_count": 116
        }
      ]
    },
    {
      "cell_type": "markdown",
      "metadata": {
        "id": "9GK9RsxNKE9p",
        "colab_type": "text"
      },
      "source": [
        "# Data Analytical Plotting\n",
        "\n",
        "1.   Numerical Grids to Target\n",
        "2.   Categorical Grids to Target\n",
        "3.   Categorical Grids to Numerical\n",
        "4.   Bar Plot and Voilin plots of different attributes\n",
        "\n"
      ]
    },
    {
      "cell_type": "code",
      "metadata": {
        "id": "pNPaGg3BKYjT",
        "colab_type": "code",
        "outputId": "323190e2-5f34-4e3a-d821-37ce1e6bb7de",
        "colab": {
          "base_uri": "https://localhost:8080/",
          "height": 217
        }
      },
      "source": [
        "for s in categorical_variables:\n",
        "  print(str(s)+\"     \"+str(train[s].unique()))"
      ],
      "execution_count": 58,
      "outputs": [
        {
          "output_type": "stream",
          "text": [
            "Region     ['Bhubaneshwar' 'Chandigarh' 'Chennai' 'Delhi' 'Bengaluru']\n",
            "Gender     ['Female' 'Male']\n",
            "Designation     ['Mrs' 'Mr']\n",
            "Name     ['mansi' 'riya masi' 'sunita' ... 'mohd mujahid ansari' 'munnakumar'\n",
            " 'mehboob mehandi']\n",
            "Married     ['YES' 'NO']\n",
            "Occupation     ['Farmer' 'Cleaner' 'Driver' 'Manufacturing' 'Clerk' 'Sales' nan\n",
            " 'Business' 'Researcher' 'Legal']\n",
            "Mode_transport     ['Public' 'Walk' 'Car' nan]\n",
            "comorbidity     ['Hypertension' 'Diabetes' 'None' 'Coronary Heart Disease' nan]\n",
            "Pulmonary score     ['<400' '<100' '<300' '<200']\n",
            "cardiological pressure     ['Normal' 'Stage-02' 'Elevated' 'Stage-01' nan]\n"
          ],
          "name": "stdout"
        }
      ]
    },
    {
      "cell_type": "markdown",
      "metadata": {
        "id": "K-yHbWCqNIeJ",
        "colab_type": "text"
      },
      "source": [
        "### **Numerical Grids to Target Relation**"
      ]
    },
    {
      "cell_type": "markdown",
      "metadata": {
        "id": "uGxpWsdIZOkV",
        "colab_type": "text"
      },
      "source": [
        "kind : 'scatter', 'reg', 'resid', 'kde', or 'hex'"
      ]
    },
    {
      "cell_type": "code",
      "metadata": {
        "id": "iMwgP4-JgLtl",
        "colab_type": "code",
        "colab": {
          "base_uri": "https://localhost:8080/",
          "height": 664
        },
        "outputId": "8f8c5039-056c-480d-c6be-8d64d5deb02d"
      },
      "source": [
        "plt.figure(figsize=(12,10))\n",
        "cor = train.corr()\n",
        "sns.heatmap(cor, annot=True, cmap=plt.cm.Reds)\n",
        "plt.show()"
      ],
      "execution_count": 123,
      "outputs": [
        {
          "output_type": "display_data",
          "data": {
            "image/png": "[encoded data removed]",
            "text/plain": [
              "<Figure size 864x720 with 2 Axes>"
            ]
          },
          "metadata": {
            "tags": []
          }
        }
      ]
    },
    {
      "cell_type": "code",
      "metadata": {
        "id": "PB8oVPmBgfiY",
        "colab_type": "code",
        "colab": {
          "base_uri": "https://localhost:8080/",
          "height": 134
        },
        "outputId": "bab134ca-93d1-4272-a50f-1df0f00c7a6f"
      },
      "source": [
        "cor_target = abs(cor[\"Infect_Prob\"])\n",
        "#Selecting highly correlated features\n",
        "relevant_features = cor_target[cor_target>0.05]\n",
        "relevant_features"
      ],
      "execution_count": 125,
      "outputs": [
        {
          "output_type": "execute_result",
          "data": {
            "text/plain": [
              "Children       0.210977\n",
              "cases/1M       0.172871\n",
              "Deaths/1M      0.174994\n",
              "Age            0.331258\n",
              "Platelets      0.066289\n",
              "Infect_Prob    1.000000\n",
              "Name: Infect_Prob, dtype: float64"
            ]
          },
          "metadata": {
            "tags": []
          },
          "execution_count": 125
        }
      ]
    },
    {
      "cell_type": "code",
      "metadata": {
        "id": "iACuLos1KI0N",
        "colab_type": "code",
        "outputId": "61fbd37e-e308-4e2b-82a0-09ca4c41ba04",
        "colab": {
          "base_uri": "https://localhost:8080/",
          "height": 441
        }
      },
      "source": [
        "import seaborn as sns\n",
        "with sns.axes_style(\"dark\"):\n",
        "    sns.jointplot(train.Age, train.Infect_Prob, kind=\"hex\", color=\"blue\");"
      ],
      "execution_count": 111,
      "outputs": [
        {
          "output_type": "display_data",
          "data": {
            "image/png": "[encoded data removed]",
            "text/plain": [
              "<Figure size 432x432 with 3 Axes>"
            ]
          },
          "metadata": {
            "tags": []
          }
        }
      ]
    },
    {
      "cell_type": "code",
      "metadata": {
        "id": "Fehn-l4mfxgk",
        "colab_type": "code",
        "colab": {
          "base_uri": "https://localhost:8080/",
          "height": 441
        },
        "outputId": "8fd50f33-a906-4c3e-e77e-2d526c9056e0"
      },
      "source": [
        "with sns.axes_style(\"dark\"):\n",
        "    sns.jointplot(train.Children, train.Infect_Prob, kind=\"hex\", color=\"blue\");"
      ],
      "execution_count": 122,
      "outputs": [
        {
          "output_type": "display_data",
          "data": {
            "image/png": "[encoded data removed]",
            "text/plain": [
              "<Figure size 432x432 with 3 Axes>"
            ]
          },
          "metadata": {
            "tags": []
          }
        }
      ]
    },
    {
      "cell_type": "code",
      "metadata": {
        "id": "WaeW7yo3NjIj",
        "colab_type": "code",
        "colab": {
          "base_uri": "https://localhost:8080/",
          "height": 441
        },
        "outputId": "60fe4014-21b4-49b4-d345-1b82913c5f1f"
      },
      "source": [
        "with sns.axes_style(\"dark\"):\n",
        "    sns.jointplot('Platelets', 'Infect_Prob', data = train ,kind=\"hex\", color=\"red\");"
      ],
      "execution_count": 127,
      "outputs": [
        {
          "output_type": "display_data",
          "data": {
            "image/png": "[encoded data removed]",
            "text/plain": [
              "<Figure size 432x432 with 3 Axes>"
            ]
          },
          "metadata": {
            "tags": []
          }
        }
      ]
    },
    {
      "cell_type": "markdown",
      "metadata": {
        "id": "VAs9zO7zhFoj",
        "colab_type": "text"
      },
      "source": [
        "## Categorical Grids to Target"
      ]
    },
    {
      "cell_type": "markdown",
      "metadata": {
        "id": "b_niNoLniL0q",
        "colab_type": "text"
      },
      "source": [
        "### **Age**\n",
        "\n",
        "Below is given the comparison of Gender probablities based on \n",
        "\n",
        "\n",
        "1.   Occupation \n",
        "2.   Mode of Transport\n",
        "3.   Comorbity\n",
        "4.   cardiological pressure\n",
        "\n",
        "Hence we Hypothize that Gender has nothing correlation with the probability and is roughly equal for all genders\n",
        "\n"
      ]
    },
    {
      "cell_type": "code",
      "metadata": {
        "id": "RosfRWlBhM0g",
        "colab_type": "code",
        "colab": {
          "base_uri": "https://localhost:8080/",
          "height": 296
        },
        "outputId": "f6a90dc8-8fe6-40e4-c60a-1a7345f95835"
      },
      "source": [
        "sns.violinplot(x='Gender', y='Infect_Prob', data=train , width = 1 , height = 4)"
      ],
      "execution_count": 134,
      "outputs": [
        {
          "output_type": "execute_result",
          "data": {
            "text/plain": [
              "<matplotlib.axes._subplots.AxesSubplot at 0x7efee53434a8>"
            ]
          },
          "metadata": {
            "tags": []
          },
          "execution_count": 134
        },
        {
          "output_type": "display_data",
          "data": {
            "image/png": "[encoded data removed]",
            "text/plain": [
              "<Figure size 432x288 with 1 Axes>"
            ]
          },
          "metadata": {
            "tags": []
          }
        }
      ]
    },
    {
      "cell_type": "code",
      "metadata": {
        "id": "x3-C0tRZazNR",
        "colab_type": "code",
        "colab": {
          "base_uri": "https://localhost:8080/",
          "height": 350
        },
        "outputId": "5667ee43-2bbc-4819-8c5b-2cc7ce21450d"
      },
      "source": [
        "g = sns.FacetGrid(train, col=\"Region\", height=4, aspect=.5)\n",
        "g.map(sns.barplot, \"Gender\", 'Infect_Prob' , color = 'yellow');"
      ],
      "execution_count": 136,
      "outputs": [
        {
          "output_type": "stream",
          "text": [
            "/usr/local/lib/python3.6/dist-packages/seaborn/axisgrid.py:728: UserWarning: Using the barplot function without specifying `order` is likely to produce an incorrect plot.\n",
            "  warnings.warn(warning)\n"
          ],
          "name": "stderr"
        },
        {
          "output_type": "display_data",
          "data": {
            "image/png": "[encoded data removed]",
            "text/plain": [
              "<Figure size 720x288 with 5 Axes>"
            ]
          },
          "metadata": {
            "tags": []
          }
        }
      ]
    },
    {
      "cell_type": "code",
      "metadata": {
        "id": "C84EQTaDhyF-",
        "colab_type": "code",
        "colab": {
          "base_uri": "https://localhost:8080/",
          "height": 350
        },
        "outputId": "55aa42a9-e501-49fe-a25c-8c3d5a6511f1"
      },
      "source": [
        "g = sns.FacetGrid(train, col=\"Mode_transport\", height=4, aspect=.5)\n",
        "g.map(sns.barplot, \"Gender\", 'Infect_Prob' , color = 'purple');"
      ],
      "execution_count": 140,
      "outputs": [
        {
          "output_type": "stream",
          "text": [
            "/usr/local/lib/python3.6/dist-packages/seaborn/axisgrid.py:728: UserWarning: Using the barplot function without specifying `order` is likely to produce an incorrect plot.\n",
            "  warnings.warn(warning)\n"
          ],
          "name": "stderr"
        },
        {
          "output_type": "display_data",
          "data": {
            "image/png": "[encoded data removed]",
            "text/plain": [
              "<Figure size 432x288 with 3 Axes>"
            ]
          },
          "metadata": {
            "tags": []
          }
        }
      ]
    },
    {
      "cell_type": "code",
      "metadata": {
        "id": "4cvk_2BEiDrq",
        "colab_type": "code",
        "colab": {
          "base_uri": "https://localhost:8080/",
          "height": 350
        },
        "outputId": "f85758f5-324c-49c2-c4ca-22ee70672042"
      },
      "source": [
        "g = sns.FacetGrid(train, col=\"comorbidity\", height=4, aspect=.5)\n",
        "g.map(sns.barplot, \"Gender\", 'Infect_Prob' , color = 'purple');"
      ],
      "execution_count": 141,
      "outputs": [
        {
          "output_type": "stream",
          "text": [
            "/usr/local/lib/python3.6/dist-packages/seaborn/axisgrid.py:728: UserWarning: Using the barplot function without specifying `order` is likely to produce an incorrect plot.\n",
            "  warnings.warn(warning)\n"
          ],
          "name": "stderr"
        },
        {
          "output_type": "display_data",
          "data": {
            "image/png": "[encoded data removed]",
            "text/plain": [
              "<Figure size 576x288 with 4 Axes>"
            ]
          },
          "metadata": {
            "tags": []
          }
        }
      ]
    },
    {
      "cell_type": "code",
      "metadata": {
        "id": "QKlNdMChiiD9",
        "colab_type": "code",
        "colab": {
          "base_uri": "https://localhost:8080/",
          "height": 350
        },
        "outputId": "1d21b7ce-f9bd-41f7-949b-4838ea50315f"
      },
      "source": [
        "g = sns.FacetGrid(train, col=\"cardiological pressure\", height=4, aspect=.5)\n",
        "g.map(sns.barplot, \"Gender\", 'Infect_Prob' , color = 'green');"
      ],
      "execution_count": 142,
      "outputs": [
        {
          "output_type": "stream",
          "text": [
            "/usr/local/lib/python3.6/dist-packages/seaborn/axisgrid.py:728: UserWarning: Using the barplot function without specifying `order` is likely to produce an incorrect plot.\n",
            "  warnings.warn(warning)\n"
          ],
          "name": "stderr"
        },
        {
          "output_type": "display_data",
          "data": {
            "image/png": "[encoded data removed]",
            "text/plain": [
              "<Figure size 576x288 with 4 Axes>"
            ]
          },
          "metadata": {
            "tags": []
          }
        }
      ]
    },
    {
      "cell_type": "markdown",
      "metadata": {
        "id": "Xtp6EgaMi8AY",
        "colab_type": "text"
      },
      "source": [
        "### **Occupation**\n",
        "\n",
        "Below is given the comparison of Occupation  probablities based on \n",
        "\n",
        "\n",
        "1.   Mode of Transport\n",
        "2.   Pulmonary score\n",
        "3.   cardiological pressure\n",
        "\n",
        "Hence we Hypothize that Occupation  has nothing correlation with the probability and is roughly equal for all Occupation "
      ]
    },
    {
      "cell_type": "code",
      "metadata": {
        "id": "5-mgIlYejFHH",
        "colab_type": "code",
        "colab": {
          "base_uri": "https://localhost:8080/",
          "height": 296
        },
        "outputId": "a03b6706-642d-4686-a24c-aa0fa5211373"
      },
      "source": [
        "sns.violinplot(x='Occupation', y='Infect_Prob', data=train , width = 1 , height = 4 ,aspect=1.5)"
      ],
      "execution_count": 150,
      "outputs": [
        {
          "output_type": "execute_result",
          "data": {
            "text/plain": [
              "<matplotlib.axes._subplots.AxesSubplot at 0x7efee7a7d2e8>"
            ]
          },
          "metadata": {
            "tags": []
          },
          "execution_count": 150
        },
        {
          "output_type": "display_data",
          "data": {
            "image/png": "[encoded data removed]",
            "text/plain": [
              "<Figure size 432x288 with 1 Axes>"
            ]
          },
          "metadata": {
            "tags": []
          }
        }
      ]
    },
    {
      "cell_type": "code",
      "metadata": {
        "id": "5L3YTwpdjQan",
        "colab_type": "code",
        "colab": {
          "base_uri": "https://localhost:8080/",
          "height": 350
        },
        "outputId": "b3f5070c-11a9-4498-ce94-fb7a50c5fa7d"
      },
      "source": [
        "g = sns.FacetGrid(train, col=\"Mode_transport\", height=4, aspect=1.5)\n",
        "g.map(sns.barplot, \"Occupation\", 'Infect_Prob' , color = 'blue');"
      ],
      "execution_count": 151,
      "outputs": [
        {
          "output_type": "stream",
          "text": [
            "/usr/local/lib/python3.6/dist-packages/seaborn/axisgrid.py:728: UserWarning: Using the barplot function without specifying `order` is likely to produce an incorrect plot.\n",
            "  warnings.warn(warning)\n"
          ],
          "name": "stderr"
        },
        {
          "output_type": "display_data",
          "data": {
            "image/png": "[encoded data removed]",
            "text/plain": [
              "<Figure size 1296x288 with 3 Axes>"
            ]
          },
          "metadata": {
            "tags": []
          }
        }
      ]
    },
    {
      "cell_type": "code",
      "metadata": {
        "id": "SPcJLIz8jtVx",
        "colab_type": "code",
        "colab": {
          "base_uri": "https://localhost:8080/",
          "height": 350
        },
        "outputId": "0be75e48-e150-42da-9b2d-759fad285b8b"
      },
      "source": [
        "g = sns.FacetGrid(train, col=\"cardiological pressure\", height=4, aspect=1.5)\n",
        "g.map(sns.barplot, \"Occupation\", 'Infect_Prob' , color = 'green');"
      ],
      "execution_count": 154,
      "outputs": [
        {
          "output_type": "stream",
          "text": [
            "/usr/local/lib/python3.6/dist-packages/seaborn/axisgrid.py:728: UserWarning: Using the barplot function without specifying `order` is likely to produce an incorrect plot.\n",
            "  warnings.warn(warning)\n"
          ],
          "name": "stderr"
        },
        {
          "output_type": "display_data",
          "data": {
            "image/png": "[encoded data removed]",
            "text/plain": [
              "<Figure size 1728x288 with 4 Axes>"
            ]
          },
          "metadata": {
            "tags": []
          }
        }
      ]
    },
    {
      "cell_type": "code",
      "metadata": {
        "id": "7_5-XMVCj3jB",
        "colab_type": "code",
        "colab": {
          "base_uri": "https://localhost:8080/",
          "height": 350
        },
        "outputId": "1c76fcb7-4aad-4eac-ba67-84e196451388"
      },
      "source": [
        "g = sns.FacetGrid(train, col=\"Pulmonary score\", height=4, aspect=1.5)\n",
        "g.map(sns.barplot, \"Occupation\", 'Infect_Prob' , color = 'green');"
      ],
      "execution_count": 155,
      "outputs": [
        {
          "output_type": "stream",
          "text": [
            "/usr/local/lib/python3.6/dist-packages/seaborn/axisgrid.py:728: UserWarning: Using the barplot function without specifying `order` is likely to produce an incorrect plot.\n",
            "  warnings.warn(warning)\n"
          ],
          "name": "stderr"
        },
        {
          "output_type": "display_data",
          "data": {
            "image/png": "[encoded data removed]",
            "text/plain": [
              "<Figure size 1728x288 with 4 Axes>"
            ]
          },
          "metadata": {
            "tags": []
          }
        }
      ]
    },
    {
      "cell_type": "markdown",
      "metadata": {
        "id": "SiDgp6TqkkBo",
        "colab_type": "text"
      },
      "source": [
        "# Machine Learning Algorithms\n",
        "\n"
      ]
    },
    {
      "cell_type": "code",
      "metadata": {
        "id": "HM_r8wNrsb7C",
        "colab_type": "code",
        "colab": {}
      },
      "source": [
        "def ML():\n",
        "  from sklearn.model_selection import train_test_split\n",
        "  X_train, X_test, y_train, y_test = train_test_split(df,target, test_size=0.33, random_state=42)\n",
        "  name = []\n",
        "  mod = []\n",
        "  rmsv = []\n",
        "  from sklearn import linear_model\n",
        "  reg = linear_model.Lasso(alpha=0.1)\n",
        "  reg.fit(X_train,y_train)\n",
        "  y_pred = reg.predict(X_test)\n",
        "  from sklearn.metrics import mean_squared_error\n",
        "  from math import sqrt\n",
        "  rms = sqrt(mean_squared_error(y_test, y_pred))\n",
        "  name.append(\"Lasso\")\n",
        "  mod.append(\" NA \")\n",
        "  rmsv.append(rms)\n",
        "  from sklearn import linear_model\n",
        "  rerg1 = linear_model.ElasticNet(alpha=0.1)\n",
        "  rerg1.fit(X_train,y_train)\n",
        "  y_pred = rerg1.predict(X_test)\n",
        "  from sklearn.metrics import mean_squared_error\n",
        "  from math import sqrt\n",
        "  rms = sqrt(mean_squared_error(y_test, y_pred))\n",
        "  name.append(\"Elastic Net\")\n",
        "  mod.append(\" NA \")\n",
        "  rmsv.append(rms)\n",
        "  from sklearn import linear_model\n",
        "  rerg1 = linear_model.Ridge(alpha=0.1)\n",
        "  rerg1.fit(X_train,y_train)\n",
        "  y_pred = rerg1.predict(X_test)\n",
        "  from sklearn.metrics import mean_squared_error\n",
        "  from math import sqrt\n",
        "  ms = sqrt(mean_squared_error(y_test, y_pred))\n",
        "  name.append(\"Ridge\")\n",
        "  mod.append(\" NA \")\n",
        "  rmsv.append(ms)\n",
        "  from sklearn.tree import DecisionTreeRegressor\n",
        "  from sklearn.ensemble import AdaBoostRegressor\n",
        "  regr_1 = DecisionTreeRegressor(max_depth=5)\n",
        "  regr_2 = AdaBoostRegressor(DecisionTreeRegressor(max_depth=5),n_estimators=300)\n",
        "  regr_1.fit(X_train, y_train)\n",
        "  regr_2.fit(X_train, y_train)\n",
        "  y_1 = regr_1.predict(X_test)\n",
        "  y_2 = regr_2.predict(X_test)\n",
        "  rms1 = sqrt(mean_squared_error(y_test, y_1))\n",
        "  name.append(\"DecisionTree Regressor\")\n",
        "  mod.append(\" NA \")\n",
        "  rmsv.append(rms1)\n",
        "  rms2 = sqrt(mean_squared_error(y_test, y_2))\n",
        "  name.append(\"AdaBoost Regressor\")\n",
        "  mod.append(\" NA \")\n",
        "  rmsv.append(rms2)\n",
        "  from sklearn.ensemble import GradientBoostingRegressor\n",
        "  est = GradientBoostingRegressor(n_estimators=100, learning_rate=0.1, max_depth=1, random_state=0, loss='ls').fit(X_train, y_train)\n",
        "  grb = sqrt(mean_squared_error(y_test, est.predict(X_test)) )\n",
        "  name.append(\"GradientBoosting Regressor\")\n",
        "  mod.append(\" NA \")\n",
        "  rmsv.append(grb)\n",
        "  import lightgbm as lgb\n",
        "  n_estimators = 100\n",
        "  n_iters = 5\n",
        "  preds_buf = []\n",
        "  err_buf = []\n",
        "  lgb_train = lgb.Dataset(X_train, y_train)\n",
        "  lgb_eval = lgb.Dataset(X_test, y_test, reference=lgb_train)\n",
        "  params = {\n",
        "      'boosting_type': 'gbdt',\n",
        "      'objective': 'regression',\n",
        "      'metric': {'l2', 'l1'},\n",
        "      'num_leaves': 31,\n",
        "      'learning_rate': 0.05,\n",
        "      'feature_fraction': 0.9,\n",
        "      'bagging_fraction': 0.8,\n",
        "      'bagging_freq': 5,\n",
        "      'verbose': 0\n",
        "  }\n",
        "  gbm = lgb.train(params,\n",
        "                  lgb_train,\n",
        "                  num_boost_round=20,\n",
        "                  valid_sets=lgb_eval, verbose_eval = False )\n",
        "  y_pred = gbm.predict(X_test, num_iteration=gbm.best_iteration)\n",
        "  name.append(\"LGB Regressor\")\n",
        "  mod.append(\" NA \")\n",
        "  rmsv.append(mean_squared_error(y_test, y_pred) ** 0.5)\n",
        "  from catboost import CatBoostRegressor\n",
        "  modelc = CatBoostRegressor()\n",
        "  modelc.fit(X_train, y_train)\n",
        "  y_pred = modelc.predict(X_test)\n",
        "  from sklearn.metrics import mean_squared_error\n",
        "  from math import sqrt\n",
        "  rms = sqrt(mean_squared_error(y_test, y_pred))\n",
        "  name.append(\"CAT Boost Regressor\")\n",
        "  mod.append(\" NA \")\n",
        "  rmsv.append(rms)\n",
        "  from sklearn.model_selection import GridSearchCV\n",
        "    \n",
        "  model = CatBoostRegressor()\n",
        "  parameters = {'depth'         : [6,8,10],\n",
        "                    'learning_rate' : [0.01, 0.05, 0.1],\n",
        "                    'iterations'    : [30, 50, 100]\n",
        "                  }\n",
        "  grid = GridSearchCV(estimator=model, param_grid = parameters, cv = 2, n_jobs=-1)\n",
        "  grid.fit(X_train, y_train)\n",
        "  from catboost import CatBoostRegressor\n",
        "  modelc = CatBoostRegressor(depth = grid.best_params_.get('depth') , iterations = grid.best_params_.get('iterations') , learning_rate = grid.best_params_.get('learning_rate'))\n",
        "  modelc.fit(X_train, y_train)\n",
        "  print(modelc)\n",
        "  y_pred = modelc.predict(X_test)\n",
        "  from sklearn.metrics import mean_squared_error\n",
        "  from math import sqrt\n",
        "  rms = sqrt(mean_squared_error(y_test, y_pred))\n",
        "  name.append(\"CAT Boost Regressor Improved\")\n",
        "  mod.append(str(grid.best_params_))\n",
        "  rmsv.append(rms)\n",
        "  from xgboost.sklearn import XGBRegressor\n",
        "  model = XGBRegressor(max_depth=9,min_child_weight = 1)\n",
        "  model.fit(X_train, y_train)\n",
        "  #print(model)\n",
        "  y_pred = model.predict(X_test)\n",
        "  from sklearn.metrics import mean_squared_error\n",
        "  from math import sqrt\n",
        "  rms = sqrt(mean_squared_error(y_test, y_pred))\n",
        "  name.append(\"XGB Boost Regressor\")\n",
        "  mod.append(\" NA \")\n",
        "  rmsv.append(rms)\n",
        "  from sklearn.model_selection import GridSearchCV   #Perforing grid search\n",
        "  param_grid = {\n",
        "  'max_depth':range(3,10,2),\n",
        "  'min_child_weight':range(1,6,2)\n",
        "  }\n",
        "  logreg_cv = GridSearchCV(model, param_grid, cv = 5) \n",
        "  logreg_cv.fit(X_train, y_train,eval_metric='rmse')\n",
        "  from xgboost.sklearn import XGBRegressor\n",
        "  model = XGBRegressor(max_depth=logreg_cv.best_params_.get('max_depth'),min_child_weight = logreg_cv.best_params_.get('min_child_weight'))\n",
        "  model.fit(X_train, y_train)\n",
        "  y_pred = model.predict(X_test)\n",
        "  from sklearn.metrics import mean_squared_error\n",
        "  from math import sqrt\n",
        "  rms = sqrt(mean_squared_error(y_test, y_pred))\n",
        "  name.append(\"XGB Boost Regressor Improved\")\n",
        "  mod.append(str(logreg_cv.best_params_))\n",
        "  rmsv.append(rms)\n",
        "  dicto = {\n",
        "      'Algorithm Name ':name ,\n",
        "      'Algorithmic Modification ':mod,\n",
        "      'Root Mean Square Value ': rmsv\n",
        "  }\n",
        "  dfObj = pd.DataFrame(dicto) \n",
        "  return dfObj"
      ],
      "execution_count": 0,
      "outputs": []
    },
    {
      "cell_type": "code",
      "metadata": {
        "id": "jFuj2sGlnAIN",
        "colab_type": "code",
        "colab": {
          "base_uri": "https://localhost:8080/",
          "height": 100
        },
        "outputId": "36cdabc0-5b5a-4204-d5d0-c70b509dcd92"
      },
      "source": [
        "!pip install lightgbm\n",
        "!pip install catboost"
      ],
      "execution_count": 172,
      "outputs": [
        {
          "output_type": "stream",
          "text": [
            "Requirement already satisfied: lightgbm in /usr/local/lib/python3.6/dist-packages (2.2.3)\n",
            "Requirement already satisfied: scipy in /usr/local/lib/python3.6/dist-packages (from lightgbm) (1.4.1)\n",
            "Requirement already satisfied: numpy in /usr/local/lib/python3.6/dist-packages (from lightgbm) (1.18.2)\n",
            "Requirement already satisfied: scikit-learn in /usr/local/lib/python3.6/dist-packages (from lightgbm) (0.22.2.post1)\n",
            "Requirement already satisfied: joblib>=0.11 in /usr/local/lib/python3.6/dist-packages (from scikit-learn->lightgbm) (0.14.1)\n"
          ],
          "name": "stdout"
        }
      ]
    },
    {
      "cell_type": "markdown",
      "metadata": {
        "id": "f4UfSGzV0KGI",
        "colab_type": "text"
      },
      "source": [
        "## **Without Analytical Changes**"
      ]
    },
    {
      "cell_type": "code",
      "metadata": {
        "id": "i3alUES60Z4l",
        "colab_type": "code",
        "colab": {
          "base_uri": "https://localhost:8080/",
          "height": 266
        },
        "outputId": "91adf391-2af4-4bbd-890b-7c808c0a9d4f"
      },
      "source": [
        "df = train\n",
        "df = df.drop('Name',axis =1)\n",
        "target = df.Infect_Prob\n",
        "df = df.drop('Infect_Prob',axis =1)\n",
        "df.head(5)"
      ],
      "execution_count": 261,
      "outputs": [
        {
          "output_type": "execute_result",
          "data": {
            "text/html": [
              "<div>\n",
              "<style scoped>\n",
              "    .dataframe tbody tr th:only-of-type {\n",
              "        vertical-align: middle;\n",
              "    }\n",
              "\n",
              "    .dataframe tbody tr th {\n",
              "        vertical-align: top;\n",
              "    }\n",
              "\n",
              "    .dataframe thead th {\n",
              "        text-align: right;\n",
              "    }\n",
              "</style>\n",
              "<table border=\"1\" class=\"dataframe\">\n",
              "  <thead>\n",
              "    <tr style=\"text-align: right;\">\n",
              "      <th></th>\n",
              "      <th>Region</th>\n",
              "      <th>Gender</th>\n",
              "      <th>Designation</th>\n",
              "      <th>Married</th>\n",
              "      <th>Children</th>\n",
              "      <th>Occupation</th>\n",
              "      <th>Mode_transport</th>\n",
              "      <th>cases/1M</th>\n",
              "      <th>Deaths/1M</th>\n",
              "      <th>comorbidity</th>\n",
              "      <th>Age</th>\n",
              "      <th>Coma score</th>\n",
              "      <th>Pulmonary score</th>\n",
              "      <th>cardiological pressure</th>\n",
              "      <th>Diuresis</th>\n",
              "      <th>Platelets</th>\n",
              "      <th>HBB</th>\n",
              "      <th>d-dimer</th>\n",
              "      <th>Heart rate</th>\n",
              "      <th>HDL cholesterol</th>\n",
              "      <th>Charlson Index</th>\n",
              "      <th>Blood Glucose</th>\n",
              "      <th>Insurance</th>\n",
              "      <th>salary</th>\n",
              "      <th>FT/month</th>\n",
              "    </tr>\n",
              "  </thead>\n",
              "  <tbody>\n",
              "    <tr>\n",
              "      <th>0</th>\n",
              "      <td>Bhubaneshwar</td>\n",
              "      <td>Female</td>\n",
              "      <td>Mrs</td>\n",
              "      <td>YES</td>\n",
              "      <td>1.0</td>\n",
              "      <td>Farmer</td>\n",
              "      <td>Public</td>\n",
              "      <td>2</td>\n",
              "      <td>0</td>\n",
              "      <td>Hypertension</td>\n",
              "      <td>68</td>\n",
              "      <td>8</td>\n",
              "      <td>&lt;400</td>\n",
              "      <td>Normal</td>\n",
              "      <td>441.000000</td>\n",
              "      <td>154.0</td>\n",
              "      <td>93.0</td>\n",
              "      <td>233.0</td>\n",
              "      <td>82.0</td>\n",
              "      <td>58.0</td>\n",
              "      <td>27</td>\n",
              "      <td>7</td>\n",
              "      <td>3600000.0</td>\n",
              "      <td>1300000</td>\n",
              "      <td>2.0</td>\n",
              "    </tr>\n",
              "    <tr>\n",
              "      <th>1</th>\n",
              "      <td>Bhubaneshwar</td>\n",
              "      <td>Female</td>\n",
              "      <td>Mrs</td>\n",
              "      <td>YES</td>\n",
              "      <td>2.0</td>\n",
              "      <td>Farmer</td>\n",
              "      <td>Walk</td>\n",
              "      <td>2</td>\n",
              "      <td>0</td>\n",
              "      <td>Diabetes</td>\n",
              "      <td>64</td>\n",
              "      <td>15</td>\n",
              "      <td>&lt;100</td>\n",
              "      <td>Stage-02</td>\n",
              "      <td>278.806261</td>\n",
              "      <td>121.0</td>\n",
              "      <td>56.0</td>\n",
              "      <td>328.0</td>\n",
              "      <td>89.0</td>\n",
              "      <td>68.0</td>\n",
              "      <td>5</td>\n",
              "      <td>6</td>\n",
              "      <td>1600000.0</td>\n",
              "      <td>400000</td>\n",
              "      <td>1.0</td>\n",
              "    </tr>\n",
              "    <tr>\n",
              "      <th>2</th>\n",
              "      <td>Bhubaneshwar</td>\n",
              "      <td>Female</td>\n",
              "      <td>Mrs</td>\n",
              "      <td>NO</td>\n",
              "      <td>1.0</td>\n",
              "      <td>Cleaner</td>\n",
              "      <td>Public</td>\n",
              "      <td>2</td>\n",
              "      <td>0</td>\n",
              "      <td>None</td>\n",
              "      <td>19</td>\n",
              "      <td>13</td>\n",
              "      <td>&lt;300</td>\n",
              "      <td>Elevated</td>\n",
              "      <td>416.000000</td>\n",
              "      <td>124.0</td>\n",
              "      <td>137.0</td>\n",
              "      <td>213.0</td>\n",
              "      <td>77.0</td>\n",
              "      <td>43.0</td>\n",
              "      <td>40</td>\n",
              "      <td>6</td>\n",
              "      <td>3400000.0</td>\n",
              "      <td>900000</td>\n",
              "      <td>1.0</td>\n",
              "    </tr>\n",
              "    <tr>\n",
              "      <th>3</th>\n",
              "      <td>Bhubaneshwar</td>\n",
              "      <td>Female</td>\n",
              "      <td>Mrs</td>\n",
              "      <td>YES</td>\n",
              "      <td>1.0</td>\n",
              "      <td>Driver</td>\n",
              "      <td>Car</td>\n",
              "      <td>2</td>\n",
              "      <td>0</td>\n",
              "      <td>Coronary Heart Disease</td>\n",
              "      <td>33</td>\n",
              "      <td>9</td>\n",
              "      <td>&lt;200</td>\n",
              "      <td>Stage-01</td>\n",
              "      <td>410.000000</td>\n",
              "      <td>98.0</td>\n",
              "      <td>167.0</td>\n",
              "      <td>275.0</td>\n",
              "      <td>64.0</td>\n",
              "      <td>60.0</td>\n",
              "      <td>27</td>\n",
              "      <td>7</td>\n",
              "      <td>700000.0</td>\n",
              "      <td>2300000</td>\n",
              "      <td>1.0</td>\n",
              "    </tr>\n",
              "    <tr>\n",
              "      <th>4</th>\n",
              "      <td>Bhubaneshwar</td>\n",
              "      <td>Female</td>\n",
              "      <td>Mrs</td>\n",
              "      <td>NO</td>\n",
              "      <td>2.0</td>\n",
              "      <td>Manufacturing</td>\n",
              "      <td>Car</td>\n",
              "      <td>2</td>\n",
              "      <td>0</td>\n",
              "      <td>Diabetes</td>\n",
              "      <td>23</td>\n",
              "      <td>7</td>\n",
              "      <td>&lt;400</td>\n",
              "      <td>Normal</td>\n",
              "      <td>390.000000</td>\n",
              "      <td>21.0</td>\n",
              "      <td>153.0</td>\n",
              "      <td>331.0</td>\n",
              "      <td>71.0</td>\n",
              "      <td>64.0</td>\n",
              "      <td>32</td>\n",
              "      <td>7</td>\n",
              "      <td>3200000.0</td>\n",
              "      <td>1100000</td>\n",
              "      <td>1.0</td>\n",
              "    </tr>\n",
              "  </tbody>\n",
              "</table>\n",
              "</div>"
            ],
            "text/plain": [
              "         Region  Gender Designation  ...  Insurance   salary FT/month\n",
              "0  Bhubaneshwar  Female         Mrs  ...  3600000.0  1300000      2.0\n",
              "1  Bhubaneshwar  Female         Mrs  ...  1600000.0   400000      1.0\n",
              "2  Bhubaneshwar  Female         Mrs  ...  3400000.0   900000      1.0\n",
              "3  Bhubaneshwar  Female         Mrs  ...   700000.0  2300000      1.0\n",
              "4  Bhubaneshwar  Female         Mrs  ...  3200000.0  1100000      1.0\n",
              "\n",
              "[5 rows x 25 columns]"
            ]
          },
          "metadata": {
            "tags": []
          },
          "execution_count": 261
        }
      ]
    },
    {
      "cell_type": "code",
      "metadata": {
        "id": "MrmFIOac0iHz",
        "colab_type": "code",
        "colab": {
          "base_uri": "https://localhost:8080/",
          "height": 250
        },
        "outputId": "765cdff6-714c-423a-db21-c295a36b784d"
      },
      "source": [
        "categorical_variables.remove('Name')\n",
        "df = pd.get_dummies(df, prefix_sep=\"__\",columns=categorical_variables)\n",
        "df.columns = df.columns.str.replace('<','')\n",
        "df.head(5)"
      ],
      "execution_count": 263,
      "outputs": [
        {
          "output_type": "execute_result",
          "data": {
            "text/html": [
              "<div>\n",
              "<style scoped>\n",
              "    .dataframe tbody tr th:only-of-type {\n",
              "        vertical-align: middle;\n",
              "    }\n",
              "\n",
              "    .dataframe tbody tr th {\n",
              "        vertical-align: top;\n",
              "    }\n",
              "\n",
              "    .dataframe thead th {\n",
              "        text-align: right;\n",
              "    }\n",
              "</style>\n",
              "<table border=\"1\" class=\"dataframe\">\n",
              "  <thead>\n",
              "    <tr style=\"text-align: right;\">\n",
              "      <th></th>\n",
              "      <th>Children</th>\n",
              "      <th>cases/1M</th>\n",
              "      <th>Deaths/1M</th>\n",
              "      <th>Age</th>\n",
              "      <th>Coma score</th>\n",
              "      <th>Diuresis</th>\n",
              "      <th>Platelets</th>\n",
              "      <th>HBB</th>\n",
              "      <th>d-dimer</th>\n",
              "      <th>Heart rate</th>\n",
              "      <th>HDL cholesterol</th>\n",
              "      <th>Charlson Index</th>\n",
              "      <th>Blood Glucose</th>\n",
              "      <th>Insurance</th>\n",
              "      <th>salary</th>\n",
              "      <th>FT/month</th>\n",
              "      <th>Region__Bengaluru</th>\n",
              "      <th>Region__Bhubaneshwar</th>\n",
              "      <th>Region__Chandigarh</th>\n",
              "      <th>Region__Chennai</th>\n",
              "      <th>Region__Delhi</th>\n",
              "      <th>Gender__Female</th>\n",
              "      <th>Gender__Male</th>\n",
              "      <th>Designation__Mr</th>\n",
              "      <th>Designation__Mrs</th>\n",
              "      <th>Married__NO</th>\n",
              "      <th>Married__YES</th>\n",
              "      <th>Occupation__Business</th>\n",
              "      <th>Occupation__Cleaner</th>\n",
              "      <th>Occupation__Clerk</th>\n",
              "      <th>Occupation__Driver</th>\n",
              "      <th>Occupation__Farmer</th>\n",
              "      <th>Occupation__Legal</th>\n",
              "      <th>Occupation__Manufacturing</th>\n",
              "      <th>Occupation__Researcher</th>\n",
              "      <th>Occupation__Sales</th>\n",
              "      <th>Mode_transport__Car</th>\n",
              "      <th>Mode_transport__Public</th>\n",
              "      <th>Mode_transport__Walk</th>\n",
              "      <th>comorbidity__Coronary Heart Disease</th>\n",
              "      <th>comorbidity__Diabetes</th>\n",
              "      <th>comorbidity__Hypertension</th>\n",
              "      <th>comorbidity__None</th>\n",
              "      <th>Pulmonary score__100</th>\n",
              "      <th>Pulmonary score__200</th>\n",
              "      <th>Pulmonary score__300</th>\n",
              "      <th>Pulmonary score__400</th>\n",
              "      <th>cardiological pressure__Elevated</th>\n",
              "      <th>cardiological pressure__Normal</th>\n",
              "      <th>cardiological pressure__Stage-01</th>\n",
              "      <th>cardiological pressure__Stage-02</th>\n",
              "    </tr>\n",
              "  </thead>\n",
              "  <tbody>\n",
              "    <tr>\n",
              "      <th>0</th>\n",
              "      <td>1.0</td>\n",
              "      <td>2</td>\n",
              "      <td>0</td>\n",
              "      <td>68</td>\n",
              "      <td>8</td>\n",
              "      <td>441.000000</td>\n",
              "      <td>154.0</td>\n",
              "      <td>93.0</td>\n",
              "      <td>233.0</td>\n",
              "      <td>82.0</td>\n",
              "      <td>58.0</td>\n",
              "      <td>27</td>\n",
              "      <td>7</td>\n",
              "      <td>3600000.0</td>\n",
              "      <td>1300000</td>\n",
              "      <td>2.0</td>\n",
              "      <td>0</td>\n",
              "      <td>1</td>\n",
              "      <td>0</td>\n",
              "      <td>0</td>\n",
              "      <td>0</td>\n",
              "      <td>1</td>\n",
              "      <td>0</td>\n",
              "      <td>0</td>\n",
              "      <td>1</td>\n",
              "      <td>0</td>\n",
              "      <td>1</td>\n",
              "      <td>0</td>\n",
              "      <td>0</td>\n",
              "      <td>0</td>\n",
              "      <td>0</td>\n",
              "      <td>1</td>\n",
              "      <td>0</td>\n",
              "      <td>0</td>\n",
              "      <td>0</td>\n",
              "      <td>0</td>\n",
              "      <td>0</td>\n",
              "      <td>1</td>\n",
              "      <td>0</td>\n",
              "      <td>0</td>\n",
              "      <td>0</td>\n",
              "      <td>1</td>\n",
              "      <td>0</td>\n",
              "      <td>0</td>\n",
              "      <td>0</td>\n",
              "      <td>0</td>\n",
              "      <td>1</td>\n",
              "      <td>0</td>\n",
              "      <td>1</td>\n",
              "      <td>0</td>\n",
              "      <td>0</td>\n",
              "    </tr>\n",
              "    <tr>\n",
              "      <th>1</th>\n",
              "      <td>2.0</td>\n",
              "      <td>2</td>\n",
              "      <td>0</td>\n",
              "      <td>64</td>\n",
              "      <td>15</td>\n",
              "      <td>278.806261</td>\n",
              "      <td>121.0</td>\n",
              "      <td>56.0</td>\n",
              "      <td>328.0</td>\n",
              "      <td>89.0</td>\n",
              "      <td>68.0</td>\n",
              "      <td>5</td>\n",
              "      <td>6</td>\n",
              "      <td>1600000.0</td>\n",
              "      <td>400000</td>\n",
              "      <td>1.0</td>\n",
              "      <td>0</td>\n",
              "      <td>1</td>\n",
              "      <td>0</td>\n",
              "      <td>0</td>\n",
              "      <td>0</td>\n",
              "      <td>1</td>\n",
              "      <td>0</td>\n",
              "      <td>0</td>\n",
              "      <td>1</td>\n",
              "      <td>0</td>\n",
              "      <td>1</td>\n",
              "      <td>0</td>\n",
              "      <td>0</td>\n",
              "      <td>0</td>\n",
              "      <td>0</td>\n",
              "      <td>1</td>\n",
              "      <td>0</td>\n",
              "      <td>0</td>\n",
              "      <td>0</td>\n",
              "      <td>0</td>\n",
              "      <td>0</td>\n",
              "      <td>0</td>\n",
              "      <td>1</td>\n",
              "      <td>0</td>\n",
              "      <td>1</td>\n",
              "      <td>0</td>\n",
              "      <td>0</td>\n",
              "      <td>1</td>\n",
              "      <td>0</td>\n",
              "      <td>0</td>\n",
              "      <td>0</td>\n",
              "      <td>0</td>\n",
              "      <td>0</td>\n",
              "      <td>0</td>\n",
              "      <td>1</td>\n",
              "    </tr>\n",
              "    <tr>\n",
              "      <th>2</th>\n",
              "      <td>1.0</td>\n",
              "      <td>2</td>\n",
              "      <td>0</td>\n",
              "      <td>19</td>\n",
              "      <td>13</td>\n",
              "      <td>416.000000</td>\n",
              "      <td>124.0</td>\n",
              "      <td>137.0</td>\n",
              "      <td>213.0</td>\n",
              "      <td>77.0</td>\n",
              "      <td>43.0</td>\n",
              "      <td>40</td>\n",
              "      <td>6</td>\n",
              "      <td>3400000.0</td>\n",
              "      <td>900000</td>\n",
              "      <td>1.0</td>\n",
              "      <td>0</td>\n",
              "      <td>1</td>\n",
              "      <td>0</td>\n",
              "      <td>0</td>\n",
              "      <td>0</td>\n",
              "      <td>1</td>\n",
              "      <td>0</td>\n",
              "      <td>0</td>\n",
              "      <td>1</td>\n",
              "      <td>1</td>\n",
              "      <td>0</td>\n",
              "      <td>0</td>\n",
              "      <td>1</td>\n",
              "      <td>0</td>\n",
              "      <td>0</td>\n",
              "      <td>0</td>\n",
              "      <td>0</td>\n",
              "      <td>0</td>\n",
              "      <td>0</td>\n",
              "      <td>0</td>\n",
              "      <td>0</td>\n",
              "      <td>1</td>\n",
              "      <td>0</td>\n",
              "      <td>0</td>\n",
              "      <td>0</td>\n",
              "      <td>0</td>\n",
              "      <td>1</td>\n",
              "      <td>0</td>\n",
              "      <td>0</td>\n",
              "      <td>1</td>\n",
              "      <td>0</td>\n",
              "      <td>1</td>\n",
              "      <td>0</td>\n",
              "      <td>0</td>\n",
              "      <td>0</td>\n",
              "    </tr>\n",
              "    <tr>\n",
              "      <th>3</th>\n",
              "      <td>1.0</td>\n",
              "      <td>2</td>\n",
              "      <td>0</td>\n",
              "      <td>33</td>\n",
              "      <td>9</td>\n",
              "      <td>410.000000</td>\n",
              "      <td>98.0</td>\n",
              "      <td>167.0</td>\n",
              "      <td>275.0</td>\n",
              "      <td>64.0</td>\n",
              "      <td>60.0</td>\n",
              "      <td>27</td>\n",
              "      <td>7</td>\n",
              "      <td>700000.0</td>\n",
              "      <td>2300000</td>\n",
              "      <td>1.0</td>\n",
              "      <td>0</td>\n",
              "      <td>1</td>\n",
              "      <td>0</td>\n",
              "      <td>0</td>\n",
              "      <td>0</td>\n",
              "      <td>1</td>\n",
              "      <td>0</td>\n",
              "      <td>0</td>\n",
              "      <td>1</td>\n",
              "      <td>0</td>\n",
              "      <td>1</td>\n",
              "      <td>0</td>\n",
              "      <td>0</td>\n",
              "      <td>0</td>\n",
              "      <td>1</td>\n",
              "      <td>0</td>\n",
              "      <td>0</td>\n",
              "      <td>0</td>\n",
              "      <td>0</td>\n",
              "      <td>0</td>\n",
              "      <td>1</td>\n",
              "      <td>0</td>\n",
              "      <td>0</td>\n",
              "      <td>1</td>\n",
              "      <td>0</td>\n",
              "      <td>0</td>\n",
              "      <td>0</td>\n",
              "      <td>0</td>\n",
              "      <td>1</td>\n",
              "      <td>0</td>\n",
              "      <td>0</td>\n",
              "      <td>0</td>\n",
              "      <td>0</td>\n",
              "      <td>1</td>\n",
              "      <td>0</td>\n",
              "    </tr>\n",
              "    <tr>\n",
              "      <th>4</th>\n",
              "      <td>2.0</td>\n",
              "      <td>2</td>\n",
              "      <td>0</td>\n",
              "      <td>23</td>\n",
              "      <td>7</td>\n",
              "      <td>390.000000</td>\n",
              "      <td>21.0</td>\n",
              "      <td>153.0</td>\n",
              "      <td>331.0</td>\n",
              "      <td>71.0</td>\n",
              "      <td>64.0</td>\n",
              "      <td>32</td>\n",
              "      <td>7</td>\n",
              "      <td>3200000.0</td>\n",
              "      <td>1100000</td>\n",
              "      <td>1.0</td>\n",
              "      <td>0</td>\n",
              "      <td>1</td>\n",
              "      <td>0</td>\n",
              "      <td>0</td>\n",
              "      <td>0</td>\n",
              "      <td>1</td>\n",
              "      <td>0</td>\n",
              "      <td>0</td>\n",
              "      <td>1</td>\n",
              "      <td>1</td>\n",
              "      <td>0</td>\n",
              "      <td>0</td>\n",
              "      <td>0</td>\n",
              "      <td>0</td>\n",
              "      <td>0</td>\n",
              "      <td>0</td>\n",
              "      <td>0</td>\n",
              "      <td>1</td>\n",
              "      <td>0</td>\n",
              "      <td>0</td>\n",
              "      <td>1</td>\n",
              "      <td>0</td>\n",
              "      <td>0</td>\n",
              "      <td>0</td>\n",
              "      <td>1</td>\n",
              "      <td>0</td>\n",
              "      <td>0</td>\n",
              "      <td>0</td>\n",
              "      <td>0</td>\n",
              "      <td>0</td>\n",
              "      <td>1</td>\n",
              "      <td>0</td>\n",
              "      <td>1</td>\n",
              "      <td>0</td>\n",
              "      <td>0</td>\n",
              "    </tr>\n",
              "  </tbody>\n",
              "</table>\n",
              "</div>"
            ],
            "text/plain": [
              "   Children  ...  cardiological pressure__Stage-02\n",
              "0       1.0  ...                                 0\n",
              "1       2.0  ...                                 1\n",
              "2       1.0  ...                                 0\n",
              "3       1.0  ...                                 0\n",
              "4       2.0  ...                                 0\n",
              "\n",
              "[5 rows x 51 columns]"
            ]
          },
          "metadata": {
            "tags": []
          },
          "execution_count": 263
        }
      ]
    },
    {
      "cell_type": "code",
      "metadata": {
        "id": "0OxPRELD1tj9",
        "colab_type": "code",
        "colab": {
          "base_uri": "https://localhost:8080/",
          "height": 301
        },
        "outputId": "d6baa61a-97a8-4db0-ad10-00e440d77a39"
      },
      "source": [
        "df."
      ],
      "execution_count": 265,
      "outputs": [
        {
          "output_type": "execute_result",
          "data": {
            "text/plain": [
              "Index(['Children', 'cases/1M', 'Deaths/1M', 'Age', 'Coma score', 'Diuresis',\n",
              "       'Platelets', 'HBB', 'd-dimer', 'Heart rate', 'HDL cholesterol',\n",
              "       'Charlson Index', 'Blood Glucose', 'Insurance', 'salary', 'FT/month',\n",
              "       'Region__Bengaluru', 'Region__Bhubaneshwar', 'Region__Chandigarh',\n",
              "       'Region__Chennai', 'Region__Delhi', 'Gender__Female', 'Gender__Male',\n",
              "       'Designation__Mr', 'Designation__Mrs', 'Married__NO', 'Married__YES',\n",
              "       'Occupation__Business', 'Occupation__Cleaner', 'Occupation__Clerk',\n",
              "       'Occupation__Driver', 'Occupation__Farmer', 'Occupation__Legal',\n",
              "       'Occupation__Manufacturing', 'Occupation__Researcher',\n",
              "       'Occupation__Sales', 'Mode_transport__Car', 'Mode_transport__Public',\n",
              "       'Mode_transport__Walk', 'comorbidity__Coronary Heart Disease',\n",
              "       'comorbidity__Diabetes', 'comorbidity__Hypertension',\n",
              "       'comorbidity__None', 'Pulmonary score__100', 'Pulmonary score__200',\n",
              "       'Pulmonary score__300', 'Pulmonary score__400',\n",
              "       'cardiological pressure__Elevated', 'cardiological pressure__Normal',\n",
              "       'cardiological pressure__Stage-01', 'cardiological pressure__Stage-02'],\n",
              "      dtype='object')"
            ]
          },
          "metadata": {
            "tags": []
          },
          "execution_count": 265
        }
      ]
    },
    {
      "cell_type": "code",
      "metadata": {
        "id": "qbqz2ai50sKY",
        "colab_type": "code",
        "colab": {}
      },
      "source": [
        "dfans = ML()"
      ],
      "execution_count": 0,
      "outputs": []
    },
    {
      "cell_type": "code",
      "metadata": {
        "id": "igYewdyU3LIi",
        "colab_type": "code",
        "colab": {
          "base_uri": "https://localhost:8080/",
          "height": 375
        },
        "outputId": "d23c2e4b-dc25-4397-d60e-6096d5046045"
      },
      "source": [
        "dfans"
      ],
      "execution_count": 267,
      "outputs": [
        {
          "output_type": "execute_result",
          "data": {
            "text/html": [
              "<div>\n",
              "<style scoped>\n",
              "    .dataframe tbody tr th:only-of-type {\n",
              "        vertical-align: middle;\n",
              "    }\n",
              "\n",
              "    .dataframe tbody tr th {\n",
              "        vertical-align: top;\n",
              "    }\n",
              "\n",
              "    .dataframe thead th {\n",
              "        text-align: right;\n",
              "    }\n",
              "</style>\n",
              "<table border=\"1\" class=\"dataframe\">\n",
              "  <thead>\n",
              "    <tr style=\"text-align: right;\">\n",
              "      <th></th>\n",
              "      <th>Algorithm Name</th>\n",
              "      <th>Algorithmic Modification</th>\n",
              "      <th>Root Mean Square Value</th>\n",
              "    </tr>\n",
              "  </thead>\n",
              "  <tbody>\n",
              "    <tr>\n",
              "      <th>0</th>\n",
              "      <td>Lasso</td>\n",
              "      <td>NA</td>\n",
              "      <td>8.932825</td>\n",
              "    </tr>\n",
              "    <tr>\n",
              "      <th>1</th>\n",
              "      <td>Elastic Net</td>\n",
              "      <td>NA</td>\n",
              "      <td>8.964172</td>\n",
              "    </tr>\n",
              "    <tr>\n",
              "      <th>2</th>\n",
              "      <td>Ridge</td>\n",
              "      <td>NA</td>\n",
              "      <td>8.928631</td>\n",
              "    </tr>\n",
              "    <tr>\n",
              "      <th>3</th>\n",
              "      <td>DecisionTree Regressor</td>\n",
              "      <td>NA</td>\n",
              "      <td>8.863736</td>\n",
              "    </tr>\n",
              "    <tr>\n",
              "      <th>4</th>\n",
              "      <td>AdaBoost Regressor</td>\n",
              "      <td>NA</td>\n",
              "      <td>8.788214</td>\n",
              "    </tr>\n",
              "    <tr>\n",
              "      <th>5</th>\n",
              "      <td>GradientBoosting Regressor</td>\n",
              "      <td>NA</td>\n",
              "      <td>8.829472</td>\n",
              "    </tr>\n",
              "    <tr>\n",
              "      <th>6</th>\n",
              "      <td>LGB Regressor</td>\n",
              "      <td>NA</td>\n",
              "      <td>8.935110</td>\n",
              "    </tr>\n",
              "    <tr>\n",
              "      <th>7</th>\n",
              "      <td>CAT Boost Regressor</td>\n",
              "      <td>NA</td>\n",
              "      <td>9.157653</td>\n",
              "    </tr>\n",
              "    <tr>\n",
              "      <th>8</th>\n",
              "      <td>CAT Boost Regressor Improved</td>\n",
              "      <td>{'depth': 8, 'iterations': 100, 'learning_rate...</td>\n",
              "      <td>8.663731</td>\n",
              "    </tr>\n",
              "    <tr>\n",
              "      <th>9</th>\n",
              "      <td>XGB Boost Regressor</td>\n",
              "      <td>NA</td>\n",
              "      <td>9.185572</td>\n",
              "    </tr>\n",
              "    <tr>\n",
              "      <th>10</th>\n",
              "      <td>XGB Boost Regressor Improved</td>\n",
              "      <td>{'max_depth': 3, 'min_child_weight': 1}</td>\n",
              "      <td>8.739016</td>\n",
              "    </tr>\n",
              "  </tbody>\n",
              "</table>\n",
              "</div>"
            ],
            "text/plain": [
              "                 Algorithm Name   ... Root Mean Square Value \n",
              "0                          Lasso  ...                8.932825\n",
              "1                    Elastic Net  ...                8.964172\n",
              "2                          Ridge  ...                8.928631\n",
              "3         DecisionTree Regressor  ...                8.863736\n",
              "4             AdaBoost Regressor  ...                8.788214\n",
              "5     GradientBoosting Regressor  ...                8.829472\n",
              "6                  LGB Regressor  ...                8.935110\n",
              "7            CAT Boost Regressor  ...                9.157653\n",
              "8   CAT Boost Regressor Improved  ...                8.663731\n",
              "9            XGB Boost Regressor  ...                9.185572\n",
              "10  XGB Boost Regressor Improved  ...                8.739016\n",
              "\n",
              "[11 rows x 3 columns]"
            ]
          },
          "metadata": {
            "tags": []
          },
          "execution_count": 267
        }
      ]
    },
    {
      "cell_type": "code",
      "metadata": {
        "id": "x0SyNNhq3PoJ",
        "colab_type": "code",
        "colab": {
          "base_uri": "https://localhost:8080/",
          "height": 375
        },
        "outputId": "4433679e-89f3-4a3a-9ab7-ec6c903e44e5"
      },
      "source": [
        "dfans.sort_values(by=['Root Mean Square Value '])"
      ],
      "execution_count": 268,
      "outputs": [
        {
          "output_type": "execute_result",
          "data": {
            "text/html": [
              "<div>\n",
              "<style scoped>\n",
              "    .dataframe tbody tr th:only-of-type {\n",
              "        vertical-align: middle;\n",
              "    }\n",
              "\n",
              "    .dataframe tbody tr th {\n",
              "        vertical-align: top;\n",
              "    }\n",
              "\n",
              "    .dataframe thead th {\n",
              "        text-align: right;\n",
              "    }\n",
              "</style>\n",
              "<table border=\"1\" class=\"dataframe\">\n",
              "  <thead>\n",
              "    <tr style=\"text-align: right;\">\n",
              "      <th></th>\n",
              "      <th>Algorithm Name</th>\n",
              "      <th>Algorithmic Modification</th>\n",
              "      <th>Root Mean Square Value</th>\n",
              "    </tr>\n",
              "  </thead>\n",
              "  <tbody>\n",
              "    <tr>\n",
              "      <th>8</th>\n",
              "      <td>CAT Boost Regressor Improved</td>\n",
              "      <td>{'depth': 8, 'iterations': 100, 'learning_rate...</td>\n",
              "      <td>8.663731</td>\n",
              "    </tr>\n",
              "    <tr>\n",
              "      <th>10</th>\n",
              "      <td>XGB Boost Regressor Improved</td>\n",
              "      <td>{'max_depth': 3, 'min_child_weight': 1}</td>\n",
              "      <td>8.739016</td>\n",
              "    </tr>\n",
              "    <tr>\n",
              "      <th>4</th>\n",
              "      <td>AdaBoost Regressor</td>\n",
              "      <td>NA</td>\n",
              "      <td>8.788214</td>\n",
              "    </tr>\n",
              "    <tr>\n",
              "      <th>5</th>\n",
              "      <td>GradientBoosting Regressor</td>\n",
              "      <td>NA</td>\n",
              "      <td>8.829472</td>\n",
              "    </tr>\n",
              "    <tr>\n",
              "      <th>3</th>\n",
              "      <td>DecisionTree Regressor</td>\n",
              "      <td>NA</td>\n",
              "      <td>8.863736</td>\n",
              "    </tr>\n",
              "    <tr>\n",
              "      <th>2</th>\n",
              "      <td>Ridge</td>\n",
              "      <td>NA</td>\n",
              "      <td>8.928631</td>\n",
              "    </tr>\n",
              "    <tr>\n",
              "      <th>0</th>\n",
              "      <td>Lasso</td>\n",
              "      <td>NA</td>\n",
              "      <td>8.932825</td>\n",
              "    </tr>\n",
              "    <tr>\n",
              "      <th>6</th>\n",
              "      <td>LGB Regressor</td>\n",
              "      <td>NA</td>\n",
              "      <td>8.935110</td>\n",
              "    </tr>\n",
              "    <tr>\n",
              "      <th>1</th>\n",
              "      <td>Elastic Net</td>\n",
              "      <td>NA</td>\n",
              "      <td>8.964172</td>\n",
              "    </tr>\n",
              "    <tr>\n",
              "      <th>7</th>\n",
              "      <td>CAT Boost Regressor</td>\n",
              "      <td>NA</td>\n",
              "      <td>9.157653</td>\n",
              "    </tr>\n",
              "    <tr>\n",
              "      <th>9</th>\n",
              "      <td>XGB Boost Regressor</td>\n",
              "      <td>NA</td>\n",
              "      <td>9.185572</td>\n",
              "    </tr>\n",
              "  </tbody>\n",
              "</table>\n",
              "</div>"
            ],
            "text/plain": [
              "                 Algorithm Name   ... Root Mean Square Value \n",
              "8   CAT Boost Regressor Improved  ...                8.663731\n",
              "10  XGB Boost Regressor Improved  ...                8.739016\n",
              "4             AdaBoost Regressor  ...                8.788214\n",
              "5     GradientBoosting Regressor  ...                8.829472\n",
              "3         DecisionTree Regressor  ...                8.863736\n",
              "2                          Ridge  ...                8.928631\n",
              "0                          Lasso  ...                8.932825\n",
              "6                  LGB Regressor  ...                8.935110\n",
              "1                    Elastic Net  ...                8.964172\n",
              "7            CAT Boost Regressor  ...                9.157653\n",
              "9            XGB Boost Regressor  ...                9.185572\n",
              "\n",
              "[11 rows x 3 columns]"
            ]
          },
          "metadata": {
            "tags": []
          },
          "execution_count": 268
        }
      ]
    },
    {
      "cell_type": "code",
      "metadata": {
        "id": "32GxlAaQ3m_4",
        "colab_type": "code",
        "colab": {
          "base_uri": "https://localhost:8080/",
          "height": 620
        },
        "outputId": "acdaadbc-66fb-4c63-8cf7-077224978c29"
      },
      "source": [
        "plt.figure(figsize=(14,8))\n",
        "ax = sns.lineplot(x=\"Algorithm Name \", y=\"Root Mean Square Value \", data=dfans ,marker='D' )\n",
        "plt.xticks(rotation=30)"
      ],
      "execution_count": 310,
      "outputs": [
        {
          "output_type": "execute_result",
          "data": {
            "text/plain": [
              "([0, 1, 2, 3, 4, 5, 6, 7, 8, 9, 10],\n",
              " <a list of 11 Text major ticklabel objects>)"
            ]
          },
          "metadata": {
            "tags": []
          },
          "execution_count": 310
        },
        {
          "output_type": "display_data",
          "data": {
            "image/png": "[encoded data removed]",
            "text/plain": [
              "<Figure size 1008x576 with 1 Axes>"
            ]
          },
          "metadata": {
            "tags": []
          }
        }
      ]
    },
    {
      "cell_type": "markdown",
      "metadata": {
        "id": "nTTSeW7B0EqD",
        "colab_type": "text"
      },
      "source": [
        "## **With Analytical Changes**"
      ]
    },
    {
      "cell_type": "code",
      "metadata": {
        "id": "I3khEOO8kjS9",
        "colab_type": "code",
        "colab": {
          "base_uri": "https://localhost:8080/",
          "height": 266
        },
        "outputId": "c729bbde-2bb0-4d9b-c4c6-99789ea44e74"
      },
      "source": [
        "df = train\n",
        "df =  df.drop('Gender',axis =1)\n",
        "df = df.drop('Occupation',axis = 1)\n",
        "df = df.drop('Mode_transport',axis =1)\n",
        "df = df.drop('Designation',axis =1)\n",
        "df = df.drop('Name',axis =1)\n",
        "df = df.drop('Married',axis =1)\n",
        "target = df.Infect_Prob\n",
        "df = df.drop('Infect_Prob',axis =1)\n",
        "df.head(5)"
      ],
      "execution_count": 160,
      "outputs": [
        {
          "output_type": "execute_result",
          "data": {
            "text/html": [
              "<div>\n",
              "<style scoped>\n",
              "    .dataframe tbody tr th:only-of-type {\n",
              "        vertical-align: middle;\n",
              "    }\n",
              "\n",
              "    .dataframe tbody tr th {\n",
              "        vertical-align: top;\n",
              "    }\n",
              "\n",
              "    .dataframe thead th {\n",
              "        text-align: right;\n",
              "    }\n",
              "</style>\n",
              "<table border=\"1\" class=\"dataframe\">\n",
              "  <thead>\n",
              "    <tr style=\"text-align: right;\">\n",
              "      <th></th>\n",
              "      <th>Region</th>\n",
              "      <th>Children</th>\n",
              "      <th>cases/1M</th>\n",
              "      <th>Deaths/1M</th>\n",
              "      <th>comorbidity</th>\n",
              "      <th>Age</th>\n",
              "      <th>Coma score</th>\n",
              "      <th>Pulmonary score</th>\n",
              "      <th>cardiological pressure</th>\n",
              "      <th>Diuresis</th>\n",
              "      <th>Platelets</th>\n",
              "      <th>HBB</th>\n",
              "      <th>d-dimer</th>\n",
              "      <th>Heart rate</th>\n",
              "      <th>HDL cholesterol</th>\n",
              "      <th>Charlson Index</th>\n",
              "      <th>Blood Glucose</th>\n",
              "      <th>Insurance</th>\n",
              "      <th>salary</th>\n",
              "      <th>FT/month</th>\n",
              "    </tr>\n",
              "  </thead>\n",
              "  <tbody>\n",
              "    <tr>\n",
              "      <th>0</th>\n",
              "      <td>Bhubaneshwar</td>\n",
              "      <td>1.0</td>\n",
              "      <td>2</td>\n",
              "      <td>0</td>\n",
              "      <td>Hypertension</td>\n",
              "      <td>68</td>\n",
              "      <td>8</td>\n",
              "      <td>&lt;400</td>\n",
              "      <td>Normal</td>\n",
              "      <td>441.000000</td>\n",
              "      <td>154.0</td>\n",
              "      <td>93.0</td>\n",
              "      <td>233.0</td>\n",
              "      <td>82.0</td>\n",
              "      <td>58.0</td>\n",
              "      <td>27</td>\n",
              "      <td>7</td>\n",
              "      <td>3600000.0</td>\n",
              "      <td>1300000</td>\n",
              "      <td>2.0</td>\n",
              "    </tr>\n",
              "    <tr>\n",
              "      <th>1</th>\n",
              "      <td>Bhubaneshwar</td>\n",
              "      <td>2.0</td>\n",
              "      <td>2</td>\n",
              "      <td>0</td>\n",
              "      <td>Diabetes</td>\n",
              "      <td>64</td>\n",
              "      <td>15</td>\n",
              "      <td>&lt;100</td>\n",
              "      <td>Stage-02</td>\n",
              "      <td>278.806261</td>\n",
              "      <td>121.0</td>\n",
              "      <td>56.0</td>\n",
              "      <td>328.0</td>\n",
              "      <td>89.0</td>\n",
              "      <td>68.0</td>\n",
              "      <td>5</td>\n",
              "      <td>6</td>\n",
              "      <td>1600000.0</td>\n",
              "      <td>400000</td>\n",
              "      <td>1.0</td>\n",
              "    </tr>\n",
              "    <tr>\n",
              "      <th>2</th>\n",
              "      <td>Bhubaneshwar</td>\n",
              "      <td>1.0</td>\n",
              "      <td>2</td>\n",
              "      <td>0</td>\n",
              "      <td>None</td>\n",
              "      <td>19</td>\n",
              "      <td>13</td>\n",
              "      <td>&lt;300</td>\n",
              "      <td>Elevated</td>\n",
              "      <td>416.000000</td>\n",
              "      <td>124.0</td>\n",
              "      <td>137.0</td>\n",
              "      <td>213.0</td>\n",
              "      <td>77.0</td>\n",
              "      <td>43.0</td>\n",
              "      <td>40</td>\n",
              "      <td>6</td>\n",
              "      <td>3400000.0</td>\n",
              "      <td>900000</td>\n",
              "      <td>1.0</td>\n",
              "    </tr>\n",
              "    <tr>\n",
              "      <th>3</th>\n",
              "      <td>Bhubaneshwar</td>\n",
              "      <td>1.0</td>\n",
              "      <td>2</td>\n",
              "      <td>0</td>\n",
              "      <td>Coronary Heart Disease</td>\n",
              "      <td>33</td>\n",
              "      <td>9</td>\n",
              "      <td>&lt;200</td>\n",
              "      <td>Stage-01</td>\n",
              "      <td>410.000000</td>\n",
              "      <td>98.0</td>\n",
              "      <td>167.0</td>\n",
              "      <td>275.0</td>\n",
              "      <td>64.0</td>\n",
              "      <td>60.0</td>\n",
              "      <td>27</td>\n",
              "      <td>7</td>\n",
              "      <td>700000.0</td>\n",
              "      <td>2300000</td>\n",
              "      <td>1.0</td>\n",
              "    </tr>\n",
              "    <tr>\n",
              "      <th>4</th>\n",
              "      <td>Bhubaneshwar</td>\n",
              "      <td>2.0</td>\n",
              "      <td>2</td>\n",
              "      <td>0</td>\n",
              "      <td>Diabetes</td>\n",
              "      <td>23</td>\n",
              "      <td>7</td>\n",
              "      <td>&lt;400</td>\n",
              "      <td>Normal</td>\n",
              "      <td>390.000000</td>\n",
              "      <td>21.0</td>\n",
              "      <td>153.0</td>\n",
              "      <td>331.0</td>\n",
              "      <td>71.0</td>\n",
              "      <td>64.0</td>\n",
              "      <td>32</td>\n",
              "      <td>7</td>\n",
              "      <td>3200000.0</td>\n",
              "      <td>1100000</td>\n",
              "      <td>1.0</td>\n",
              "    </tr>\n",
              "  </tbody>\n",
              "</table>\n",
              "</div>"
            ],
            "text/plain": [
              "         Region  Children  cases/1M  ...  Insurance   salary  FT/month\n",
              "0  Bhubaneshwar       1.0         2  ...  3600000.0  1300000       2.0\n",
              "1  Bhubaneshwar       2.0         2  ...  1600000.0   400000       1.0\n",
              "2  Bhubaneshwar       1.0         2  ...  3400000.0   900000       1.0\n",
              "3  Bhubaneshwar       1.0         2  ...   700000.0  2300000       1.0\n",
              "4  Bhubaneshwar       2.0         2  ...  3200000.0  1100000       1.0\n",
              "\n",
              "[5 rows x 20 columns]"
            ]
          },
          "metadata": {
            "tags": []
          },
          "execution_count": 160
        }
      ]
    },
    {
      "cell_type": "code",
      "metadata": {
        "id": "BmneSl1tmIHl",
        "colab_type": "code",
        "colab": {}
      },
      "source": [
        "categorical_variables.remove('Gender')\n",
        "categorical_variables.remove('Name')\n",
        "categorical_variables.remove('Designation')\n",
        "categorical_variables.remove('Occupation')\n",
        "categorical_variables.remove('Mode_transport')\n",
        "categorical_variables.remove('Married')"
      ],
      "execution_count": 0,
      "outputs": []
    },
    {
      "cell_type": "code",
      "metadata": {
        "id": "D_9uJNE3mE9O",
        "colab_type": "code",
        "colab": {}
      },
      "source": [
        "df = pd.get_dummies(df, prefix_sep=\"__\",columns=categorical_variables)"
      ],
      "execution_count": 0,
      "outputs": []
    },
    {
      "cell_type": "code",
      "metadata": {
        "id": "i3b0yiNiz4co",
        "colab_type": "code",
        "colab": {}
      },
      "source": [
        "df.columns = df.columns.str.replace('<','')"
      ],
      "execution_count": 0,
      "outputs": []
    },
    {
      "cell_type": "code",
      "metadata": {
        "id": "jQKg-1eDmcYm",
        "colab_type": "code",
        "colab": {
          "base_uri": "https://localhost:8080/",
          "height": 250
        },
        "outputId": "7bc321da-834e-48f0-ce81-a0b7ba1a9857"
      },
      "source": [
        "df.head(5)"
      ],
      "execution_count": 163,
      "outputs": [
        {
          "output_type": "execute_result",
          "data": {
            "text/html": [
              "<div>\n",
              "<style scoped>\n",
              "    .dataframe tbody tr th:only-of-type {\n",
              "        vertical-align: middle;\n",
              "    }\n",
              "\n",
              "    .dataframe tbody tr th {\n",
              "        vertical-align: top;\n",
              "    }\n",
              "\n",
              "    .dataframe thead th {\n",
              "        text-align: right;\n",
              "    }\n",
              "</style>\n",
              "<table border=\"1\" class=\"dataframe\">\n",
              "  <thead>\n",
              "    <tr style=\"text-align: right;\">\n",
              "      <th></th>\n",
              "      <th>Children</th>\n",
              "      <th>cases/1M</th>\n",
              "      <th>Deaths/1M</th>\n",
              "      <th>Age</th>\n",
              "      <th>Coma score</th>\n",
              "      <th>Diuresis</th>\n",
              "      <th>Platelets</th>\n",
              "      <th>HBB</th>\n",
              "      <th>d-dimer</th>\n",
              "      <th>Heart rate</th>\n",
              "      <th>HDL cholesterol</th>\n",
              "      <th>Charlson Index</th>\n",
              "      <th>Blood Glucose</th>\n",
              "      <th>Insurance</th>\n",
              "      <th>salary</th>\n",
              "      <th>FT/month</th>\n",
              "      <th>Region__Bengaluru</th>\n",
              "      <th>Region__Bhubaneshwar</th>\n",
              "      <th>Region__Chandigarh</th>\n",
              "      <th>Region__Chennai</th>\n",
              "      <th>Region__Delhi</th>\n",
              "      <th>comorbidity__Coronary Heart Disease</th>\n",
              "      <th>comorbidity__Diabetes</th>\n",
              "      <th>comorbidity__Hypertension</th>\n",
              "      <th>comorbidity__None</th>\n",
              "      <th>Pulmonary score__&lt;100</th>\n",
              "      <th>Pulmonary score__&lt;200</th>\n",
              "      <th>Pulmonary score__&lt;300</th>\n",
              "      <th>Pulmonary score__&lt;400</th>\n",
              "      <th>cardiological pressure__Elevated</th>\n",
              "      <th>cardiological pressure__Normal</th>\n",
              "      <th>cardiological pressure__Stage-01</th>\n",
              "      <th>cardiological pressure__Stage-02</th>\n",
              "    </tr>\n",
              "  </thead>\n",
              "  <tbody>\n",
              "    <tr>\n",
              "      <th>0</th>\n",
              "      <td>1.0</td>\n",
              "      <td>2</td>\n",
              "      <td>0</td>\n",
              "      <td>68</td>\n",
              "      <td>8</td>\n",
              "      <td>441.000000</td>\n",
              "      <td>154.0</td>\n",
              "      <td>93.0</td>\n",
              "      <td>233.0</td>\n",
              "      <td>82.0</td>\n",
              "      <td>58.0</td>\n",
              "      <td>27</td>\n",
              "      <td>7</td>\n",
              "      <td>3600000.0</td>\n",
              "      <td>1300000</td>\n",
              "      <td>2.0</td>\n",
              "      <td>0</td>\n",
              "      <td>1</td>\n",
              "      <td>0</td>\n",
              "      <td>0</td>\n",
              "      <td>0</td>\n",
              "      <td>0</td>\n",
              "      <td>0</td>\n",
              "      <td>1</td>\n",
              "      <td>0</td>\n",
              "      <td>0</td>\n",
              "      <td>0</td>\n",
              "      <td>0</td>\n",
              "      <td>1</td>\n",
              "      <td>0</td>\n",
              "      <td>1</td>\n",
              "      <td>0</td>\n",
              "      <td>0</td>\n",
              "    </tr>\n",
              "    <tr>\n",
              "      <th>1</th>\n",
              "      <td>2.0</td>\n",
              "      <td>2</td>\n",
              "      <td>0</td>\n",
              "      <td>64</td>\n",
              "      <td>15</td>\n",
              "      <td>278.806261</td>\n",
              "      <td>121.0</td>\n",
              "      <td>56.0</td>\n",
              "      <td>328.0</td>\n",
              "      <td>89.0</td>\n",
              "      <td>68.0</td>\n",
              "      <td>5</td>\n",
              "      <td>6</td>\n",
              "      <td>1600000.0</td>\n",
              "      <td>400000</td>\n",
              "      <td>1.0</td>\n",
              "      <td>0</td>\n",
              "      <td>1</td>\n",
              "      <td>0</td>\n",
              "      <td>0</td>\n",
              "      <td>0</td>\n",
              "      <td>0</td>\n",
              "      <td>1</td>\n",
              "      <td>0</td>\n",
              "      <td>0</td>\n",
              "      <td>1</td>\n",
              "      <td>0</td>\n",
              "      <td>0</td>\n",
              "      <td>0</td>\n",
              "      <td>0</td>\n",
              "      <td>0</td>\n",
              "      <td>0</td>\n",
              "      <td>1</td>\n",
              "    </tr>\n",
              "    <tr>\n",
              "      <th>2</th>\n",
              "      <td>1.0</td>\n",
              "      <td>2</td>\n",
              "      <td>0</td>\n",
              "      <td>19</td>\n",
              "      <td>13</td>\n",
              "      <td>416.000000</td>\n",
              "      <td>124.0</td>\n",
              "      <td>137.0</td>\n",
              "      <td>213.0</td>\n",
              "      <td>77.0</td>\n",
              "      <td>43.0</td>\n",
              "      <td>40</td>\n",
              "      <td>6</td>\n",
              "      <td>3400000.0</td>\n",
              "      <td>900000</td>\n",
              "      <td>1.0</td>\n",
              "      <td>0</td>\n",
              "      <td>1</td>\n",
              "      <td>0</td>\n",
              "      <td>0</td>\n",
              "      <td>0</td>\n",
              "      <td>0</td>\n",
              "      <td>0</td>\n",
              "      <td>0</td>\n",
              "      <td>1</td>\n",
              "      <td>0</td>\n",
              "      <td>0</td>\n",
              "      <td>1</td>\n",
              "      <td>0</td>\n",
              "      <td>1</td>\n",
              "      <td>0</td>\n",
              "      <td>0</td>\n",
              "      <td>0</td>\n",
              "    </tr>\n",
              "    <tr>\n",
              "      <th>3</th>\n",
              "      <td>1.0</td>\n",
              "      <td>2</td>\n",
              "      <td>0</td>\n",
              "      <td>33</td>\n",
              "      <td>9</td>\n",
              "      <td>410.000000</td>\n",
              "      <td>98.0</td>\n",
              "      <td>167.0</td>\n",
              "      <td>275.0</td>\n",
              "      <td>64.0</td>\n",
              "      <td>60.0</td>\n",
              "      <td>27</td>\n",
              "      <td>7</td>\n",
              "      <td>700000.0</td>\n",
              "      <td>2300000</td>\n",
              "      <td>1.0</td>\n",
              "      <td>0</td>\n",
              "      <td>1</td>\n",
              "      <td>0</td>\n",
              "      <td>0</td>\n",
              "      <td>0</td>\n",
              "      <td>1</td>\n",
              "      <td>0</td>\n",
              "      <td>0</td>\n",
              "      <td>0</td>\n",
              "      <td>0</td>\n",
              "      <td>1</td>\n",
              "      <td>0</td>\n",
              "      <td>0</td>\n",
              "      <td>0</td>\n",
              "      <td>0</td>\n",
              "      <td>1</td>\n",
              "      <td>0</td>\n",
              "    </tr>\n",
              "    <tr>\n",
              "      <th>4</th>\n",
              "      <td>2.0</td>\n",
              "      <td>2</td>\n",
              "      <td>0</td>\n",
              "      <td>23</td>\n",
              "      <td>7</td>\n",
              "      <td>390.000000</td>\n",
              "      <td>21.0</td>\n",
              "      <td>153.0</td>\n",
              "      <td>331.0</td>\n",
              "      <td>71.0</td>\n",
              "      <td>64.0</td>\n",
              "      <td>32</td>\n",
              "      <td>7</td>\n",
              "      <td>3200000.0</td>\n",
              "      <td>1100000</td>\n",
              "      <td>1.0</td>\n",
              "      <td>0</td>\n",
              "      <td>1</td>\n",
              "      <td>0</td>\n",
              "      <td>0</td>\n",
              "      <td>0</td>\n",
              "      <td>0</td>\n",
              "      <td>1</td>\n",
              "      <td>0</td>\n",
              "      <td>0</td>\n",
              "      <td>0</td>\n",
              "      <td>0</td>\n",
              "      <td>0</td>\n",
              "      <td>1</td>\n",
              "      <td>0</td>\n",
              "      <td>1</td>\n",
              "      <td>0</td>\n",
              "      <td>0</td>\n",
              "    </tr>\n",
              "  </tbody>\n",
              "</table>\n",
              "</div>"
            ],
            "text/plain": [
              "   Children  ...  cardiological pressure__Stage-02\n",
              "0       1.0  ...                                 0\n",
              "1       2.0  ...                                 1\n",
              "2       1.0  ...                                 0\n",
              "3       1.0  ...                                 0\n",
              "4       2.0  ...                                 0\n",
              "\n",
              "[5 rows x 33 columns]"
            ]
          },
          "metadata": {
            "tags": []
          },
          "execution_count": 163
        }
      ]
    },
    {
      "cell_type": "code",
      "metadata": {
        "id": "ga4dTnFmmqep",
        "colab_type": "code",
        "colab": {}
      },
      "source": [
        "dfans = ML()"
      ],
      "execution_count": 0,
      "outputs": []
    },
    {
      "cell_type": "code",
      "metadata": {
        "id": "6VJPx-rQzic3",
        "colab_type": "code",
        "colab": {
          "base_uri": "https://localhost:8080/",
          "height": 375
        },
        "outputId": "cb277305-ab8b-4556-9562-920e581d2d0a"
      },
      "source": [
        "dfans"
      ],
      "execution_count": 252,
      "outputs": [
        {
          "output_type": "execute_result",
          "data": {
            "text/html": [
              "<div>\n",
              "<style scoped>\n",
              "    .dataframe tbody tr th:only-of-type {\n",
              "        vertical-align: middle;\n",
              "    }\n",
              "\n",
              "    .dataframe tbody tr th {\n",
              "        vertical-align: top;\n",
              "    }\n",
              "\n",
              "    .dataframe thead th {\n",
              "        text-align: right;\n",
              "    }\n",
              "</style>\n",
              "<table border=\"1\" class=\"dataframe\">\n",
              "  <thead>\n",
              "    <tr style=\"text-align: right;\">\n",
              "      <th></th>\n",
              "      <th>Algorithm Name</th>\n",
              "      <th>Algorithmic Modification</th>\n",
              "      <th>Root Mean Square Value</th>\n",
              "    </tr>\n",
              "  </thead>\n",
              "  <tbody>\n",
              "    <tr>\n",
              "      <th>0</th>\n",
              "      <td>Lasso</td>\n",
              "      <td>NA</td>\n",
              "      <td>9.537891</td>\n",
              "    </tr>\n",
              "    <tr>\n",
              "      <th>1</th>\n",
              "      <td>Elastic Net</td>\n",
              "      <td>NA</td>\n",
              "      <td>9.537742</td>\n",
              "    </tr>\n",
              "    <tr>\n",
              "      <th>2</th>\n",
              "      <td>Ridge</td>\n",
              "      <td>NA</td>\n",
              "      <td>9.537786</td>\n",
              "    </tr>\n",
              "    <tr>\n",
              "      <th>3</th>\n",
              "      <td>DecisionTree Regressor</td>\n",
              "      <td>NA</td>\n",
              "      <td>8.799612</td>\n",
              "    </tr>\n",
              "    <tr>\n",
              "      <th>4</th>\n",
              "      <td>AdaBoost Regressor</td>\n",
              "      <td>NA</td>\n",
              "      <td>9.377848</td>\n",
              "    </tr>\n",
              "    <tr>\n",
              "      <th>5</th>\n",
              "      <td>GradientBoosting Regressor</td>\n",
              "      <td>NA</td>\n",
              "      <td>8.832365</td>\n",
              "    </tr>\n",
              "    <tr>\n",
              "      <th>6</th>\n",
              "      <td>LGB Regressor</td>\n",
              "      <td>NA</td>\n",
              "      <td>8.945903</td>\n",
              "    </tr>\n",
              "    <tr>\n",
              "      <th>7</th>\n",
              "      <td>CAT Boost Regressor</td>\n",
              "      <td>NA</td>\n",
              "      <td>9.161846</td>\n",
              "    </tr>\n",
              "    <tr>\n",
              "      <th>8</th>\n",
              "      <td>CAT Boost Regressor Improved</td>\n",
              "      <td>{'depth': 8, 'iterations': 30, 'learning_rate'...</td>\n",
              "      <td>8.685764</td>\n",
              "    </tr>\n",
              "    <tr>\n",
              "      <th>9</th>\n",
              "      <td>XGB Boost Regressor</td>\n",
              "      <td>NA</td>\n",
              "      <td>9.118070</td>\n",
              "    </tr>\n",
              "    <tr>\n",
              "      <th>10</th>\n",
              "      <td>XGB Boost Regressor Improved</td>\n",
              "      <td>{'max_depth': 3, 'min_child_weight': 5}</td>\n",
              "      <td>8.773010</td>\n",
              "    </tr>\n",
              "  </tbody>\n",
              "</table>\n",
              "</div>"
            ],
            "text/plain": [
              "                 Algorithm Name   ... Root Mean Square Value \n",
              "0                          Lasso  ...                9.537891\n",
              "1                    Elastic Net  ...                9.537742\n",
              "2                          Ridge  ...                9.537786\n",
              "3         DecisionTree Regressor  ...                8.799612\n",
              "4             AdaBoost Regressor  ...                9.377848\n",
              "5     GradientBoosting Regressor  ...                8.832365\n",
              "6                  LGB Regressor  ...                8.945903\n",
              "7            CAT Boost Regressor  ...                9.161846\n",
              "8   CAT Boost Regressor Improved  ...                8.685764\n",
              "9            XGB Boost Regressor  ...                9.118070\n",
              "10  XGB Boost Regressor Improved  ...                8.773010\n",
              "\n",
              "[11 rows x 3 columns]"
            ]
          },
          "metadata": {
            "tags": []
          },
          "execution_count": 252
        }
      ]
    },
    {
      "cell_type": "code",
      "metadata": {
        "id": "n6uzjBDhzNwZ",
        "colab_type": "code",
        "colab": {
          "base_uri": "https://localhost:8080/",
          "height": 375
        },
        "outputId": "f4ce6ae1-ca05-4ea8-f182-d32c7718eaeb"
      },
      "source": [
        "dfans.sort_values(by=['Root Mean Square Value '])"
      ],
      "execution_count": 251,
      "outputs": [
        {
          "output_type": "execute_result",
          "data": {
            "text/html": [
              "<div>\n",
              "<style scoped>\n",
              "    .dataframe tbody tr th:only-of-type {\n",
              "        vertical-align: middle;\n",
              "    }\n",
              "\n",
              "    .dataframe tbody tr th {\n",
              "        vertical-align: top;\n",
              "    }\n",
              "\n",
              "    .dataframe thead th {\n",
              "        text-align: right;\n",
              "    }\n",
              "</style>\n",
              "<table border=\"1\" class=\"dataframe\">\n",
              "  <thead>\n",
              "    <tr style=\"text-align: right;\">\n",
              "      <th></th>\n",
              "      <th>Algorithm Name</th>\n",
              "      <th>Algorithmic Modification</th>\n",
              "      <th>Root Mean Square Value</th>\n",
              "    </tr>\n",
              "  </thead>\n",
              "  <tbody>\n",
              "    <tr>\n",
              "      <th>8</th>\n",
              "      <td>CAT Boost Regressor Improved</td>\n",
              "      <td>{'depth': 8, 'iterations': 30, 'learning_rate'...</td>\n",
              "      <td>8.685764</td>\n",
              "    </tr>\n",
              "    <tr>\n",
              "      <th>10</th>\n",
              "      <td>XGB Boost Regressor Improved</td>\n",
              "      <td>{'max_depth': 3, 'min_child_weight': 5}</td>\n",
              "      <td>8.773010</td>\n",
              "    </tr>\n",
              "    <tr>\n",
              "      <th>3</th>\n",
              "      <td>DecisionTree Regressor</td>\n",
              "      <td>NA</td>\n",
              "      <td>8.799612</td>\n",
              "    </tr>\n",
              "    <tr>\n",
              "      <th>5</th>\n",
              "      <td>GradientBoosting Regressor</td>\n",
              "      <td>NA</td>\n",
              "      <td>8.832365</td>\n",
              "    </tr>\n",
              "    <tr>\n",
              "      <th>6</th>\n",
              "      <td>LGB Regressor</td>\n",
              "      <td>NA</td>\n",
              "      <td>8.945903</td>\n",
              "    </tr>\n",
              "    <tr>\n",
              "      <th>9</th>\n",
              "      <td>XGB Boost Regressor</td>\n",
              "      <td>NA</td>\n",
              "      <td>9.118070</td>\n",
              "    </tr>\n",
              "    <tr>\n",
              "      <th>7</th>\n",
              "      <td>CAT Boost Regressor</td>\n",
              "      <td>NA</td>\n",
              "      <td>9.161846</td>\n",
              "    </tr>\n",
              "    <tr>\n",
              "      <th>4</th>\n",
              "      <td>AdaBoost Regressor</td>\n",
              "      <td>NA</td>\n",
              "      <td>9.377848</td>\n",
              "    </tr>\n",
              "    <tr>\n",
              "      <th>1</th>\n",
              "      <td>Elastic Net</td>\n",
              "      <td>NA</td>\n",
              "      <td>9.537742</td>\n",
              "    </tr>\n",
              "    <tr>\n",
              "      <th>2</th>\n",
              "      <td>Ridge</td>\n",
              "      <td>NA</td>\n",
              "      <td>9.537786</td>\n",
              "    </tr>\n",
              "    <tr>\n",
              "      <th>0</th>\n",
              "      <td>Lasso</td>\n",
              "      <td>NA</td>\n",
              "      <td>9.537891</td>\n",
              "    </tr>\n",
              "  </tbody>\n",
              "</table>\n",
              "</div>"
            ],
            "text/plain": [
              "                 Algorithm Name   ... Root Mean Square Value \n",
              "8   CAT Boost Regressor Improved  ...                8.685764\n",
              "10  XGB Boost Regressor Improved  ...                8.773010\n",
              "3         DecisionTree Regressor  ...                8.799612\n",
              "5     GradientBoosting Regressor  ...                8.832365\n",
              "6                  LGB Regressor  ...                8.945903\n",
              "9            XGB Boost Regressor  ...                9.118070\n",
              "7            CAT Boost Regressor  ...                9.161846\n",
              "4             AdaBoost Regressor  ...                9.377848\n",
              "1                    Elastic Net  ...                9.537742\n",
              "2                          Ridge  ...                9.537786\n",
              "0                          Lasso  ...                9.537891\n",
              "\n",
              "[11 rows x 3 columns]"
            ]
          },
          "metadata": {
            "tags": []
          },
          "execution_count": 251
        }
      ]
    }
  ]
}